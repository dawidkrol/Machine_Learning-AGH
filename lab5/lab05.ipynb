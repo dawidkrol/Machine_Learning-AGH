{
 "cells": [
  {
   "cell_type": "code",
   "execution_count": 1,
   "id": "596a7eca-7355-436c-9bd9-1145cddba2a6",
   "metadata": {},
   "outputs": [
    {
     "data": {
      "text/html": [
       "<div>\n",
       "<style scoped>\n",
       "    .dataframe tbody tr th:only-of-type {\n",
       "        vertical-align: middle;\n",
       "    }\n",
       "\n",
       "    .dataframe tbody tr th {\n",
       "        vertical-align: top;\n",
       "    }\n",
       "\n",
       "    .dataframe thead th {\n",
       "        text-align: right;\n",
       "    }\n",
       "</style>\n",
       "<table border=\"1\" class=\"dataframe\">\n",
       "  <thead>\n",
       "    <tr style=\"text-align: right;\">\n",
       "      <th></th>\n",
       "      <th>symmetry</th>\n",
       "      <th>texture</th>\n",
       "      <th>target</th>\n",
       "    </tr>\n",
       "  </thead>\n",
       "  <tbody>\n",
       "    <tr>\n",
       "      <th>0</th>\n",
       "      <td>0.2419</td>\n",
       "      <td>10.38</td>\n",
       "      <td>0</td>\n",
       "    </tr>\n",
       "    <tr>\n",
       "      <th>1</th>\n",
       "      <td>0.1812</td>\n",
       "      <td>17.77</td>\n",
       "      <td>0</td>\n",
       "    </tr>\n",
       "    <tr>\n",
       "      <th>2</th>\n",
       "      <td>0.2069</td>\n",
       "      <td>21.25</td>\n",
       "      <td>0</td>\n",
       "    </tr>\n",
       "    <tr>\n",
       "      <th>3</th>\n",
       "      <td>0.2597</td>\n",
       "      <td>20.38</td>\n",
       "      <td>0</td>\n",
       "    </tr>\n",
       "    <tr>\n",
       "      <th>4</th>\n",
       "      <td>0.1809</td>\n",
       "      <td>14.34</td>\n",
       "      <td>0</td>\n",
       "    </tr>\n",
       "    <tr>\n",
       "      <th>...</th>\n",
       "      <td>...</td>\n",
       "      <td>...</td>\n",
       "      <td>...</td>\n",
       "    </tr>\n",
       "    <tr>\n",
       "      <th>564</th>\n",
       "      <td>0.1726</td>\n",
       "      <td>22.39</td>\n",
       "      <td>0</td>\n",
       "    </tr>\n",
       "    <tr>\n",
       "      <th>565</th>\n",
       "      <td>0.1752</td>\n",
       "      <td>28.25</td>\n",
       "      <td>0</td>\n",
       "    </tr>\n",
       "    <tr>\n",
       "      <th>566</th>\n",
       "      <td>0.1590</td>\n",
       "      <td>28.08</td>\n",
       "      <td>0</td>\n",
       "    </tr>\n",
       "    <tr>\n",
       "      <th>567</th>\n",
       "      <td>0.2397</td>\n",
       "      <td>29.33</td>\n",
       "      <td>0</td>\n",
       "    </tr>\n",
       "    <tr>\n",
       "      <th>568</th>\n",
       "      <td>0.1587</td>\n",
       "      <td>24.54</td>\n",
       "      <td>1</td>\n",
       "    </tr>\n",
       "  </tbody>\n",
       "</table>\n",
       "<p>569 rows × 3 columns</p>\n",
       "</div>"
      ],
      "text/plain": [
       "     symmetry  texture  target\n",
       "0      0.2419    10.38       0\n",
       "1      0.1812    17.77       0\n",
       "2      0.2069    21.25       0\n",
       "3      0.2597    20.38       0\n",
       "4      0.1809    14.34       0\n",
       "..        ...      ...     ...\n",
       "564    0.1726    22.39       0\n",
       "565    0.1752    28.25       0\n",
       "566    0.1590    28.08       0\n",
       "567    0.2397    29.33       0\n",
       "568    0.1587    24.54       1\n",
       "\n",
       "[569 rows x 3 columns]"
      ]
     },
     "execution_count": 1,
     "metadata": {},
     "output_type": "execute_result"
    }
   ],
   "source": [
    "from sklearn import datasets\n",
    "import pandas as pd\n",
    "from sklearn.metrics import accuracy_score\n",
    "import numpy as np\n",
    "data_breast_cancer = datasets.load_breast_cancer()\n",
    "data_breast_cancer = pd.DataFrame(\n",
    "    {\n",
    "        'symmetry': data_breast_cancer[\"data\"][:, (8)],\n",
    "        'texture': data_breast_cancer[\"data\"][:, (1)],\n",
    "        'target': data_breast_cancer[\"target\"]\n",
    "    }\n",
    "    ,columns=['symmetry','texture','target'])\n",
    "data_breast_cancer\n",
    "\n",
    "with open('proj2_data.csv', 'r') as f:\n",
    "    text = f.read()\n",
    "counts = {'|': text.count('|'), ';': text.count(';'), ',': text.count(',')}\n",
    "separator = max(counts, key=counts.get)\n",
    "deci = \".\" if separator == \",\" else \",\"\n",
    "df = pd.read_csv(\"proj2_data.csv\", sep=separator, decimal=deci).round(2)\n",
    "print(df)\n",
    "df.to_pickle('proj2_ex01.pkl')"
   ]
  },
  {
   "cell_type": "code",
   "execution_count": 2,
   "id": "0a18f1ad-9674-445f-ae64-21143d83189a",
   "metadata": {},
   "outputs": [],
   "source": [
    "from sklearn.model_selection import train_test_split"
   ]
  },
  {
   "cell_type": "code",
   "execution_count": 3,
   "id": "af683ed9-c2db-4a18-95b9-e5981e34b932",
   "metadata": {},
   "outputs": [],
   "source": [
    "cancer_X_training, cancer_X_test, cancer_y_training, cancer_y_test = train_test_split(data_breast_cancer[['symmetry','texture']],data_breast_cancer[['target']],test_size=0.2)"
   ]
  },
  {
   "cell_type": "code",
   "execution_count": 4,
   "id": "4b025e02-c621-4dd7-9b48-8648edd411e7",
   "metadata": {},
   "outputs": [
    {
     "name": "stdout",
     "output_type": "stream",
     "text": [
      "0.8422712933753944 0.7802197802197802\n"
     ]
    }
   ],
   "source": [
    "from sklearn.tree import DecisionTreeClassifier\n",
    "from sklearn.metrics import f1_score\n",
    "tree_clf = DecisionTreeClassifier(max_depth=4,random_state=42)\n",
    "tree_clf.fit(cancer_X_training, cancer_y_training)\n",
    "cancer_pred_train = tree_clf.predict(cancer_X_training)\n",
    "f1_cancer_train = f1_score(cancer_y_training, cancer_pred_train)\n",
    "acc_cancer_train = accuracy_score(cancer_y_training,cancer_pred_train)\n",
    "print(f1_cancer_train, acc_cancer_train)"
   ]
  },
  {
   "cell_type": "code",
   "execution_count": 5,
   "id": "064f27f6-9c26-4dc3-a9c8-f2f292e8a667",
   "metadata": {},
   "outputs": [
    {
     "name": "stdout",
     "output_type": "stream",
     "text": [
      "0.8211920529801325 0.7631578947368421\n"
     ]
    }
   ],
   "source": [
    "cancer_pred_test = tree_clf.predict(cancer_X_test)\n",
    "f1_cancer_test = f1_score(cancer_y_test, cancer_pred_test)\n",
    "acc_cancer_test = accuracy_score(cancer_y_test,cancer_pred_test)\n",
    "print(f1_cancer_test, acc_cancer_test)"
   ]
  },
  {
   "cell_type": "code",
   "execution_count": 6,
   "id": "bee20056-3e31-47c5-8ed0-d4e2847f2459",
   "metadata": {},
   "outputs": [],
   "source": [
    "from sklearn import tree\n",
    "import matplotlib.pyplot as plt\n",
    "tree.export_graphviz(tree_clf, out_file='bc.png')"
   ]
  },
  {
   "cell_type": "code",
   "execution_count": 7,
   "id": "518d8f06-be22-4dd0-b69e-bf84f763dfb1",
   "metadata": {},
   "outputs": [],
   "source": [
    "# Saving\n",
    "import pickle\n",
    "ll = list()\n",
    "ll.append(4)\n",
    "ll.append(f1_cancer_train)\n",
    "ll.append(f1_cancer_test)\n",
    "ll.append(acc_cancer_train)\n",
    "ll.append(acc_cancer_test)\n",
    "\n",
    "with open('f1acc_tree.pkl ', 'wb') as handle:\n",
    "    pickle.dump(ll, handle)"
   ]
  },
  {
   "cell_type": "code",
   "execution_count": 8,
   "id": "6449b3dd-db32-4161-9ecd-05c81bbf354e",
   "metadata": {},
   "outputs": [
    {
     "data": {
      "image/png": "[encoded data removed]",
      "text/plain": [
       "<Figure size 432x288 with 1 Axes>"
      ]
     },
     "metadata": {
      "needs_background": "light"
     },
     "output_type": "display_data"
    }
   ],
   "source": [
    "size = 300\n",
    "X = np.random.rand(size)*5-2.5\n",
    "w4, w3, w2, w1, w0 = 1, 2, 1, -4, 2\n",
    "y = w4*(X**4) + w3*(X**3) + w2*(X**2) + w1*X + w0 + np.random.randn(size)*8-4\n",
    "df = pd.DataFrame({'x': X, 'y': y})\n",
    "df.plot.scatter(x='x',y='y')\n",
    "df = df.sort_values('x')"
   ]
  },
  {
   "cell_type": "code",
   "execution_count": 9,
   "id": "518e71dd-24bc-4921-88db-d6dfbeb98ba5",
   "metadata": {},
   "outputs": [],
   "source": [
    "random_X_training, random_X_test, random_y_training, random_y_test = train_test_split(df['x'].to_numpy().reshape(-1, 1), df['y'].to_numpy().reshape(-1, 1), test_size=0.2)"
   ]
  },
  {
   "cell_type": "code",
   "execution_count": 10,
   "id": "21519d6f-bfde-44de-826f-f1c82996a874",
   "metadata": {},
   "outputs": [
    {
     "name": "stdout",
     "output_type": "stream",
     "text": [
      "66.3455751075309\n"
     ]
    }
   ],
   "source": [
    "from sklearn.tree import DecisionTreeRegressor\n",
    "from sklearn.metrics import mean_squared_error\n",
    "\n",
    "tree_reg = DecisionTreeRegressor(max_depth=3,random_state=42)\n",
    "tree_reg.fit(random_X_training, random_y_training)\n",
    "random_pred_training = tree_reg.predict(random_X_training)\n",
    "random_mse_training = mean_squared_error(random_y_training, random_pred_training)\n",
    "print(random_mse_training)"
   ]
  },
  {
   "cell_type": "code",
   "execution_count": 11,
   "id": "c81020d2-07b1-4aa8-b321-6fd7b3f31cca",
   "metadata": {},
   "outputs": [
    {
     "name": "stdout",
     "output_type": "stream",
     "text": [
      "85.54005031557274\n"
     ]
    }
   ],
   "source": [
    "random_pred_test = tree_reg.predict(random_X_test)\n",
    "random_mse_test = mean_squared_error(random_y_test, random_pred_test)\n",
    "print(random_mse_test)"
   ]
  },
  {
   "cell_type": "code",
   "execution_count": 12,
   "id": "8f9a76e6-4df4-42ea-9355-ba2534eb0274",
   "metadata": {},
   "outputs": [
    {
     "data": {
      "image/png": "[encoded data removed]",
      "text/plain": [
       "<Figure size 432x288 with 1 Axes>"
      ]
     },
     "metadata": {
      "needs_background": "light"
     },
     "output_type": "display_data"
    }
   ],
   "source": [
    "yy = tree_reg.predict(df['x'].to_numpy().reshape(-1, 1))\n",
    "\n",
    "plt.figure()\n",
    "plt.scatter(X, y, s=20, edgecolor=\"black\", c=\"darkorange\", label=\"data\")\n",
    "plt.plot(df['x'].to_numpy().reshape(-1, 1), yy, color=\"yellowgreen\", label=\"max_depth=5\", linewidth=2)\n",
    "plt.xlabel(\"data\")\n",
    "plt.ylabel(\"target\")\n",
    "plt.title(\"Decision Tree Regression\")\n",
    "plt.legend()\n",
    "plt.show()"
   ]
  },
  {
   "cell_type": "code",
   "execution_count": 13,
   "id": "5f5eefc4-bd44-4dc4-b4f5-312848ba2b22",
   "metadata": {},
   "outputs": [],
   "source": [
    "from sklearn import tree\n",
    "import matplotlib.pyplot as plt\n",
    "tree.export_graphviz(tree_reg, out_file='reg.png')"
   ]
  },
  {
   "cell_type": "code",
   "execution_count": 14,
   "id": "db0e20b5-381b-41ab-bd03-fa10f4678aae",
   "metadata": {},
   "outputs": [],
   "source": [
    "# Saving\n",
    "ll = list()\n",
    "ll.append(3)\n",
    "ll.append(random_mse_training)\n",
    "ll.append(random_mse_test)\n",
    "\n",
    "with open('mse_tree.pkl', 'wb') as handle:\n",
    "    pickle.dump(ll, handle)"
   ]
  }
 ],
 "metadata": {
  "kernelspec": {
   "display_name": "Python 3 (ipykernel)",
   "language": "python",
   "name": "python3"
  },
  "language_info": {
   "codemirror_mode": {
    "name": "ipython",
    "version": 3
   },
   "file_extension": ".py",
   "mimetype": "text/x-python",
   "name": "python",
   "nbconvert_exporter": "python",
   "pygments_lexer": "ipython3",
   "version": "3.9.7"
  }
 },
 "nbformat": 4,
 "nbformat_minor": 5
}
