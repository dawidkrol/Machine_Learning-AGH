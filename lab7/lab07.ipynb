{
 "cells": [
  {
   "cell_type": "code",
   "execution_count": 1,
   "id": "f5230dc5-9823-40df-81dd-63ee361a01bf",
   "metadata": {},
   "outputs": [],
   "source": [
    "from sklearn.datasets import fetch_openml\n",
    "import numpy as np\n",
    "mnist = fetch_openml('mnist_784', version=1, as_frame=False)\n",
    "mnist.target = mnist.target.astype(np.uint8)\n",
    "X = mnist[\"data\"]\n",
    "y = mnist[\"target\"]"
   ]
  },
  {
   "cell_type": "code",
   "execution_count": 2,
   "id": "5d954403-5f45-4c90-8a26-6f63875b9284",
   "metadata": {},
   "outputs": [],
   "source": [
    "import pickle\n",
    "\n",
    "def saveToFile(ll, filename):\n",
    "    with open(filename, 'wb') as handle:\n",
    "        pickle.dump(ll, handle)"
   ]
  },
  {
   "cell_type": "code",
   "execution_count": 3,
   "id": "d125ef26-0df5-4167-9706-f3797136411f",
   "metadata": {},
   "outputs": [],
   "source": [
    "from sklearn.metrics import silhouette_score\n",
    "\n",
    "def wsk_sylw(X, kmeans):\n",
    "    return silhouette_score(X, kmeans.labels_)"
   ]
  },
  {
   "cell_type": "code",
   "execution_count": 4,
   "id": "40692b0f-4b25-4f6d-acff-178152de4108",
   "metadata": {},
   "outputs": [
    {
     "name": "stdout",
     "output_type": "stream",
     "text": [
      "8\n",
      "0.07338401965925966\n",
      "9\n",
      "0.05683381826333592\n",
      "10\n",
      "0.05869201052848778\n",
      "11\n",
      "0.05836351154790604\n",
      "12\n",
      "0.05894738457992754\n"
     ]
    },
    {
     "data": {
      "text/plain": [
       "[[8,\n",
       "  KMeans(random_state=42),\n",
       "  array([4, 3, 6, ..., 1, 4, 5]),\n",
       "  0.07338401965925966],\n",
       " [9,\n",
       "  KMeans(n_clusters=9, random_state=42),\n",
       "  array([1, 0, 7, ..., 3, 1, 5]),\n",
       "  0.05683381826333592],\n",
       " [10,\n",
       "  KMeans(n_clusters=10, random_state=42),\n",
       "  array([8, 9, 3, ..., 5, 2, 6]),\n",
       "  0.05869201052848778],\n",
       " [11,\n",
       "  KMeans(n_clusters=11, random_state=42),\n",
       "  array([ 3, 10,  7, ...,  9,  2,  5]),\n",
       "  0.05836351154790604],\n",
       " [12,\n",
       "  KMeans(n_clusters=12, random_state=42),\n",
       "  array([0, 3, 1, ..., 2, 7, 5]),\n",
       "  0.05894738457992754]]"
      ]
     },
     "execution_count": 4,
     "metadata": {},
     "output_type": "execute_result"
    }
   ],
   "source": [
    "from sklearn.cluster import KMeans\n",
    "data = list()\n",
    "for i in range(8,13):\n",
    "    print(i)\n",
    "    k = i\n",
    "    kmeans = KMeans(n_clusters=k, random_state=42)\n",
    "    y_pred = kmeans.fit_predict(X)\n",
    "    wsk = wsk_sylw(X,kmeans)\n",
    "    print(wsk)\n",
    "    data.append(list([k,kmeans,y_pred,wsk]))\n",
    "\n",
    "data"
   ]
  },
  {
   "cell_type": "code",
   "execution_count": 5,
   "id": "aef23c99-069a-4789-bd09-3df4d990a004",
   "metadata": {},
   "outputs": [],
   "source": [
    "from sklearn.metrics import confusion_matrix\n",
    "import numpy as np\n",
    "\n",
    "y_10 = data[2]\n",
    "cm_10 = confusion_matrix(y, y_10[2])\n",
    "v_s = set()\n",
    "cm_10\n",
    "for i in cm_10:\n",
    "    v_s.add(np.argmax(i))\n",
    "saveToFile(list(v_s),'kmeans_argmax.pkl')"
   ]
  },
  {
   "cell_type": "code",
   "execution_count": 6,
   "id": "a2de3874-f9e8-4e02-ab5c-03bc6359d20c",
   "metadata": {},
   "outputs": [],
   "source": [
    "cms=list()\n",
    "for i in data:\n",
    "    cms.append(i[3])\n",
    "cms\n",
    "saveToFile(cms,'kmeans_sil.pkl')"
   ]
  },
  {
   "cell_type": "code",
   "execution_count": 7,
   "id": "95a2f076-152a-4197-b809-d8758d85258f",
   "metadata": {},
   "outputs": [
    {
     "name": "stdout",
     "output_type": "stream",
     "text": [
      "[279.26152617215286, 304.37641170103836, 317.5893575043093, 328.7658741414626, 333.4546445920344, 352.89800226127664, 355.1774204534967, 358.07401469528617, 359.64287842247063, 360.42474942767177]\n"
     ]
    }
   ],
   "source": [
    "# DBSCAN\n",
    "dist_list = []\n",
    "for i in range(300):\n",
    "    for z in X:\n",
    "        if np.linalg.norm(X[i] - z) != 0:\n",
    "            dist_list.append(np.linalg.norm(X[i] - z))\n",
    "dist_list.sort()\n",
    "results = dist_list[0:10]\n",
    "pickle.dump(results, open('dist.pkl', 'wb'))"
   ]
  },
  {
   "cell_type": "code",
   "execution_count": 8,
   "id": "65c4a23a-fedb-4c14-a7ef-bcfa161c8e6a",
   "metadata": {},
   "outputs": [
    {
     "name": "stdout",
     "output_type": "stream",
     "text": [
      "[4, 7, 22]\n"
     ]
    }
   ],
   "source": [
    "from sklearn.cluster import DBSCAN\n",
    "s = np.mean(results[:3])\n",
    "eps_list = np.arange(s, s+0.1*s, 0.04*s)\n",
    "results = []\n",
    "for i in eps_list:\n",
    "    db = DBSCAN(eps=i)\n",
    "    db.fit(X)\n",
    "    results.append(len(set(db.labels_)))\n",
    "pickle.dump(results, open('dbscan_len.pkl', 'wb'))"
   ]
  }
 ],
 "metadata": {
  "kernelspec": {
   "display_name": "Python 3 (ipykernel)",
   "language": "python",
   "name": "python3"
  },
  "language_info": {
   "codemirror_mode": {
    "name": "ipython",
    "version": 3
   },
   "file_extension": ".py",
   "mimetype": "text/x-python",
   "name": "python",
   "nbconvert_exporter": "python",
   "pygments_lexer": "ipython3",
   "version": "3.9.7"
  }
 },
 "nbformat": 4,
 "nbformat_minor": 5
}
