{
 "cells": [
  {
   "cell_type": "code",
   "execution_count": 1,
   "id": "1cc9faf7-3e33-48fb-a9b7-1d5e8d76323e",
   "metadata": {},
   "outputs": [],
   "source": [
    "from sklearn import datasets\n",
    "from sklearn.metrics import accuracy_score\n",
    "from sklearn.metrics import f1_score\n",
    "import pickle\n",
    "\n",
    "def saveToFile(ll, filename):\n",
    "    with open(filename, 'wb') as handle:\n",
    "        pickle.dump(ll, handle)\n",
    "\n",
    "def f1_acc(clf, X, y):\n",
    "    cancer_pred_train = clf.predict(X)\n",
    "    f1_cancer_train = f1_score(y, cancer_pred_train)\n",
    "    acc_cancer_train = accuracy_score(y,cancer_pred_train)\n",
    "    return acc_cancer_train\n",
    "\n",
    "data_breast_cancer = datasets.load_breast_cancer(as_frame=True)"
   ]
  },
  {
   "cell_type": "code",
   "execution_count": 2,
   "id": "9376ff57-a5a0-45f5-9fb1-41bbac34d432",
   "metadata": {},
   "outputs": [],
   "source": [
    "from sklearn.model_selection import train_test_split\n",
    "cancer_X_training, cancer_X_test, cancer_y_training, cancer_y_test = train_test_split(data_breast_cancer['data'][['mean symmetry','mean texture']],data_breast_cancer['target'],test_size=0.2)"
   ]
  },
  {
   "cell_type": "code",
   "execution_count": 3,
   "id": "38f7457e-18e9-4378-88ee-828a28931504",
   "metadata": {},
   "outputs": [],
   "source": [
    "from sklearn.ensemble import VotingClassifier\n",
    "from sklearn.linear_model import LogisticRegression\n",
    "from sklearn.tree import DecisionTreeClassifier\n",
    "from sklearn.neighbors import KNeighborsClassifier"
   ]
  },
  {
   "cell_type": "code",
   "execution_count": 4,
   "id": "254a3855-d57f-4aa9-92c6-9bcaf83f3589",
   "metadata": {},
   "outputs": [],
   "source": [
    "dokladnosc = list()\n",
    "classif = list()\n",
    "\n",
    "log_clf = LogisticRegression()\n",
    "dt_clf = DecisionTreeClassifier()\n",
    "kn_clf = KNeighborsClassifier()\n",
    "\n",
    "log_clf.fit(cancer_X_training, cancer_y_training)\n",
    "dt_clf.fit(cancer_X_training, cancer_y_training)\n",
    "kn_clf.fit(cancer_X_training, cancer_y_training)\n",
    "\n",
    "voting_clf_hard = VotingClassifier(\n",
    "                    estimators=[('lr', log_clf),\n",
    "                                ('dt', dt_clf),\n",
    "                                ('kn', kn_clf)],\n",
    "                    voting='hard')"
   ]
  },
  {
   "cell_type": "code",
   "execution_count": 5,
   "id": "dfc5f14e-653c-4e11-bf10-5ca67808b3c2",
   "metadata": {},
   "outputs": [
    {
     "data": {
      "text/plain": [
       "VotingClassifier(estimators=[('lr', LogisticRegression()),\n",
       "                             ('dt', DecisionTreeClassifier()),\n",
       "                             ('kn', KNeighborsClassifier())])"
      ]
     },
     "execution_count": 5,
     "metadata": {},
     "output_type": "execute_result"
    }
   ],
   "source": [
    "voting_clf_hard.fit(cancer_X_training, cancer_y_training)"
   ]
  },
  {
   "cell_type": "code",
   "execution_count": 6,
   "id": "1ef8c6c7-794c-4c11-9e96-f1e02f373008",
   "metadata": {},
   "outputs": [],
   "source": [
    "dokladnosc.append((f1_acc(dt_clf, cancer_X_training, cancer_y_training),\n",
    "                       f1_acc(dt_clf, cancer_X_test, cancer_y_test)))\n",
    "classif.append(dt_clf)"
   ]
  },
  {
   "cell_type": "code",
   "execution_count": 7,
   "id": "816834bb-b9d8-41f3-b73f-a1f1fcc184a5",
   "metadata": {},
   "outputs": [],
   "source": [
    "dokladnosc.append((f1_acc(log_clf, cancer_X_training, cancer_y_training),\n",
    "                       f1_acc(log_clf, cancer_X_test, cancer_y_test)))\n",
    "classif.append(log_clf)"
   ]
  },
  {
   "cell_type": "code",
   "execution_count": 8,
   "id": "5f39379e-432c-4254-9c6c-8378d7b5ea86",
   "metadata": {},
   "outputs": [],
   "source": [
    "dokladnosc.append((f1_acc(kn_clf, cancer_X_training, cancer_y_training),\n",
    "                       f1_acc(kn_clf, cancer_X_test, cancer_y_test)))\n",
    "classif.append(kn_clf)"
   ]
  },
  {
   "cell_type": "code",
   "execution_count": 9,
   "id": "5148affe-7589-4f37-ba64-1faa2a2e3dcf",
   "metadata": {},
   "outputs": [],
   "source": [
    "dokladnosc.append((f1_acc(voting_clf_hard, cancer_X_training, cancer_y_training),\n",
    "                       f1_acc(voting_clf_hard, cancer_X_test, cancer_y_test)))\n",
    "classif.append(voting_clf_hard)"
   ]
  },
  {
   "cell_type": "code",
   "execution_count": 10,
   "id": "f9b7d2f0-2127-405e-906c-e590fbba424f",
   "metadata": {},
   "outputs": [
    {
     "data": {
      "text/plain": [
       "VotingClassifier(estimators=[('lr', LogisticRegression()),\n",
       "                             ('dt', DecisionTreeClassifier()),\n",
       "                             ('kn', KNeighborsClassifier())],\n",
       "                 voting='soft')"
      ]
     },
     "execution_count": 10,
     "metadata": {},
     "output_type": "execute_result"
    }
   ],
   "source": [
    "voting_clf_soft = VotingClassifier(\n",
    "                    estimators=[('lr', log_clf),\n",
    "                                ('dt', dt_clf),\n",
    "                                ('kn', kn_clf)],\n",
    "                    voting='soft')\n",
    "voting_clf_soft.fit(cancer_X_training, cancer_y_training)"
   ]
  },
  {
   "cell_type": "code",
   "execution_count": 11,
   "id": "ec29ad0f-b784-431b-9980-da9f97fef9bb",
   "metadata": {},
   "outputs": [],
   "source": [
    "dokladnosc.append((f1_acc(voting_clf_soft, cancer_X_training, cancer_y_training),\n",
    "                       f1_acc(voting_clf_soft, cancer_X_test, cancer_y_test)))\n",
    "classif.append(voting_clf_soft)"
   ]
  },
  {
   "cell_type": "code",
   "execution_count": 12,
   "id": "222ddef6-40ed-4edc-8d23-fed36b5a087a",
   "metadata": {},
   "outputs": [],
   "source": [
    "saveToFile(dokladnosc,'acc_vote.pkl')\n",
    "saveToFile(classif,'vote.pkl')"
   ]
  },
  {
   "cell_type": "code",
   "execution_count": 13,
   "id": "f1f9dd19-be5c-4f83-be58-684b8ad3bcfb",
   "metadata": {},
   "outputs": [],
   "source": [
    "ll = list()\n",
    "classlist = list()"
   ]
  },
  {
   "cell_type": "code",
   "execution_count": 14,
   "id": "4d16095c-e757-4a73-a231-252828097a9d",
   "metadata": {},
   "outputs": [],
   "source": [
    "from sklearn.ensemble import BaggingClassifier\n",
    "bag_clf = BaggingClassifier(DecisionTreeClassifier(), n_estimators=30,\n",
    "                                max_samples=1.0, bootstrap=True)\n",
    "bag_clf.fit(cancer_X_training, cancer_y_training)\n",
    "\n",
    "classlist.append(bag_clf)\n",
    "ll.append((f1_acc(bag_clf, cancer_X_training, cancer_y_training),f1_acc(bag_clf, cancer_X_test, cancer_y_test)))"
   ]
  },
  {
   "cell_type": "code",
   "execution_count": 15,
   "id": "23400235-580c-4938-b9dc-a80d267a0eb2",
   "metadata": {},
   "outputs": [],
   "source": [
    "half_bag_clf = BaggingClassifier(DecisionTreeClassifier(), n_estimators=30,\n",
    "                                max_samples=0.5, bootstrap=True)\n",
    "half_bag_clf.fit(cancer_X_training, cancer_y_training)\n",
    "\n",
    "classlist.append(half_bag_clf)\n",
    "ll.append((f1_acc(half_bag_clf, cancer_X_training, cancer_y_training),f1_acc(half_bag_clf, cancer_X_test, cancer_y_test)))"
   ]
  },
  {
   "cell_type": "code",
   "execution_count": 16,
   "id": "f69ab942-828b-4927-bfcd-31f46c215f26",
   "metadata": {},
   "outputs": [],
   "source": [
    "# Pasting\n",
    "pasting_clf = BaggingClassifier(DecisionTreeClassifier(), n_estimators=30,\n",
    "                                max_samples=1.0, bootstrap=True)\n",
    "pasting_clf.fit(cancer_X_training, cancer_y_training)\n",
    "\n",
    "classlist.append(pasting_clf)\n",
    "ll.append((f1_acc(pasting_clf, cancer_X_training, cancer_y_training),f1_acc(pasting_clf, cancer_X_test, cancer_y_test)))"
   ]
  },
  {
   "cell_type": "code",
   "execution_count": 17,
   "id": "6f6bcc0f-55c5-4194-98fe-cb0bedf1bbe6",
   "metadata": {},
   "outputs": [],
   "source": [
    "half_pasting_clf = BaggingClassifier(DecisionTreeClassifier(), n_estimators=30,\n",
    "                                max_samples=0.5, bootstrap=True)\n",
    "half_pasting_clf.fit(cancer_X_training, cancer_y_training)\n",
    "\n",
    "classlist.append(half_pasting_clf)\n",
    "ll.append((f1_acc(half_pasting_clf, cancer_X_training, cancer_y_training),f1_acc(half_pasting_clf, cancer_X_test, cancer_y_test)))"
   ]
  },
  {
   "cell_type": "code",
   "execution_count": 18,
   "id": "a3d378b6-491d-41ad-a0d3-67750c050734",
   "metadata": {},
   "outputs": [],
   "source": [
    "from sklearn.ensemble import RandomForestClassifier\n",
    "rnd_clf = RandomForestClassifier(n_estimators=30)\n",
    "rnd_clf.fit(cancer_X_training, cancer_y_training)\n",
    "\n",
    "classlist.append(rnd_clf)\n",
    "ll.append((f1_acc(rnd_clf, cancer_X_training, cancer_y_training),f1_acc(rnd_clf, cancer_X_test, cancer_y_test)))"
   ]
  },
  {
   "cell_type": "code",
   "execution_count": 19,
   "id": "dc5ebb5e-7d04-4ca7-a9c8-8b25e795d88d",
   "metadata": {},
   "outputs": [],
   "source": [
    "from sklearn.ensemble import AdaBoostClassifier\n",
    "ada_clf = AdaBoostClassifier(n_estimators=30)\n",
    "ada_clf.fit(cancer_X_training, cancer_y_training)\n",
    "\n",
    "classlist.append(ada_clf)\n",
    "ll.append((f1_acc(ada_clf, cancer_X_training, cancer_y_training),f1_acc(ada_clf, cancer_X_test, cancer_y_test)))"
   ]
  },
  {
   "cell_type": "code",
   "execution_count": 20,
   "id": "7d09e91b-3ecb-438f-bf02-7e0b818b66ba",
   "metadata": {},
   "outputs": [],
   "source": [
    "from sklearn.ensemble import GradientBoostingClassifier\n",
    "gbrt = GradientBoostingClassifier(n_estimators=30)\n",
    "gbrt.fit(cancer_X_training, cancer_y_training)\n",
    "\n",
    "classlist.append(gbrt)\n",
    "ll.append((gbrt.score(cancer_X_training, cancer_y_training),gbrt.score(cancer_X_test, cancer_y_test)))"
   ]
  },
  {
   "cell_type": "code",
   "execution_count": 21,
   "id": "893ce985-9ef5-406a-b645-2644d85f67a7",
   "metadata": {},
   "outputs": [],
   "source": [
    "saveToFile(ll,'acc_bag.pkl')\n",
    "saveToFile(classlist,'bag.pkl')"
   ]
  },
  {
   "cell_type": "code",
   "execution_count": 22,
   "id": "e9b53d41-4914-4c29-b977-77086a5040d2",
   "metadata": {},
   "outputs": [],
   "source": [
    "sampling_clf = BaggingClassifier(n_estimators=30,\n",
    "                                 max_features=2, bootstrap_features=True,\n",
    "                                max_samples=0.5, bootstrap=False)\n",
    "sampling_clf.fit(cancer_X_training, cancer_y_training)\n",
    "\n",
    "sampl_ll = list()\n",
    "sampl_cls = list()\n",
    "\n",
    "sampl_cls.append(sampling_clf)\n",
    "sampl_ll.append(f1_acc(sampling_clf, cancer_X_training, cancer_y_training))\n",
    "sampl_ll.append(f1_acc(sampling_clf, cancer_X_test, cancer_y_test))"
   ]
  },
  {
   "cell_type": "code",
   "execution_count": 23,
   "id": "77f7d110-0473-4f49-8932-c05f10f8d346",
   "metadata": {},
   "outputs": [],
   "source": [
    "saveToFile(sampl_ll,'acc_fea.pkl')\n",
    "saveToFile(sampl_cls,'fea.pkl')"
   ]
  },
  {
   "cell_type": "code",
   "execution_count": 24,
   "id": "e8bf9c6c-c639-4671-bdd2-e92ccbbe1c49",
   "metadata": {},
   "outputs": [],
   "source": [
    "import pandas as pd\n",
    "ss = list()\n",
    "for i in sampling_clf.estimators_:\n",
    "    ss.append((\n",
    "        f1_acc(i, cancer_X_training, cancer_y_training),\n",
    "        f1_acc(i, cancer_X_test, cancer_y_test),\n",
    "        i.feature_importances_\n",
    "    ))\n",
    "df = pd.DataFrame(ss, columns=['train_acc','test_acc','features'])\n",
    "df.sort_values(by=['test_acc','train_acc'], ascending=False, inplace=True)\n",
    "\n",
    "saveToFile(df,'acc_fea_rank.pkl')"
   ]
  },
  {
   "cell_type": "code",
   "execution_count": null,
   "id": "c264014a-933a-4941-b388-794dbf6853f0",
   "metadata": {},
   "outputs": [],
   "source": []
  }
 ],
 "metadata": {
  "kernelspec": {
   "display_name": "Python 3 (ipykernel)",
   "language": "python",
   "name": "python3"
  },
  "language_info": {
   "codemirror_mode": {
    "name": "ipython",
    "version": 3
   },
   "file_extension": ".py",
   "mimetype": "text/x-python",
   "name": "python",
   "nbconvert_exporter": "python",
   "pygments_lexer": "ipython3",
   "version": "3.9.7"
  }
 },
 "nbformat": 4,
 "nbformat_minor": 5
}
