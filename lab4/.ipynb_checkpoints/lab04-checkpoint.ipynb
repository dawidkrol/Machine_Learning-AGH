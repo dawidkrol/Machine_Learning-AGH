{
 "cells": [
  {
   "cell_type": "code",
   "execution_count": 1,
   "id": "75e9353a-e8c7-4b28-bcd1-e46779848eb9",
   "metadata": {},
   "outputs": [],
   "source": [
    "from sklearn import datasets\n",
    "import numpy as np\n",
    "import matplotlib.pyplot as plt\n",
    "import pandas as pd"
   ]
  },
  {
   "cell_type": "code",
   "execution_count": 2,
   "id": "76ef8b50-1de5-4d2c-915d-ad73a459eb0d",
   "metadata": {},
   "outputs": [],
   "source": [
    "data_breast_cancer = datasets.load_breast_cancer()\n",
    "data_breast_cancer = pd.DataFrame(\n",
    "    {\n",
    "        'area': data_breast_cancer[\"data\"][:, (3)],\n",
    "        'smoothness': data_breast_cancer[\"data\"][:, (4)],\n",
    "        'target': data_breast_cancer[\"target\"]\n",
    "    }\n",
    "    ,columns=['area','smoothness','target'])"
   ]
  },
  {
   "cell_type": "code",
   "execution_count": 3,
   "id": "5723c2b3-dc58-4cfb-9ce8-2e92ab22b111",
   "metadata": {},
   "outputs": [],
   "source": [
    "from sklearn.model_selection import train_test_split"
   ]
  },
  {
   "cell_type": "code",
   "execution_count": 4,
   "id": "cb438571-7a42-4aa5-b250-620a1afaf86d",
   "metadata": {},
   "outputs": [],
   "source": [
    "cancer_X_training, cancer_X_test, cancer_y_training, cancer_y_test = train_test_split(data_breast_cancer[['area','smoothness']],data_breast_cancer[['target']],test_size=0.2)"
   ]
  },
  {
   "cell_type": "code",
   "execution_count": 5,
   "id": "a014ceaf-a2d0-473f-ab05-45d47388a05e",
   "metadata": {},
   "outputs": [],
   "source": [
    "def plot_dataset(X, y, axes):\n",
    "    plt.plot(X[:, 0][y==0], X[:, 1][y==0], \"bs\")\n",
    "    plt.plot(X[:, 0][y==1], X[:, 1][y==1], \"g^\")\n",
    "    plt.axis(axes)\n",
    "    plt.grid(True, which='both')\n",
    "    plt.xlabel(\"$x_1$\")\n",
    "    plt.ylabel(\"$x_2$\")\n",
    "    plt.show()"
   ]
  },
  {
   "cell_type": "code",
   "execution_count": 6,
   "id": "eeef3446-400d-4fef-b83e-9351a5d21faf",
   "metadata": {},
   "outputs": [
    {
     "data": {
      "image/png": "[encoded data removed]",
      "text/plain": [
       "<Figure size 432x288 with 1 Axes>"
      ]
     },
     "metadata": {
      "needs_background": "light"
     },
     "output_type": "display_data"
    }
   ],
   "source": [
    "X = data_breast_cancer[['area','smoothness']]\n",
    "y = (data_breast_cancer[['target']]).astype(np.int8)\n",
    "plot_dataset(X.to_numpy(),y.to_numpy().flatten(),[0, 3000, 0, 0.3])"
   ]
  },
  {
   "cell_type": "code",
   "execution_count": 7,
   "id": "0c3adde3-c1d2-441b-a335-9f5710887679",
   "metadata": {},
   "outputs": [],
   "source": [
    "from sklearn.pipeline import Pipeline\n",
    "from sklearn.preprocessing import StandardScaler\n",
    "from sklearn.svm import LinearSVC\n",
    "from sklearn.metrics import accuracy_score\n",
    "import pickle"
   ]
  },
  {
   "cell_type": "code",
   "execution_count": 8,
   "id": "e48708e1-fb00-466f-b774-a53679979bda",
   "metadata": {},
   "outputs": [
    {
     "name": "stderr",
     "output_type": "stream",
     "text": [
      "C:\\ProgramData\\Anaconda3\\lib\\site-packages\\sklearn\\svm\\_base.py:985: ConvergenceWarning: Liblinear failed to converge, increase the number of iterations.\n",
      "  warnings.warn(\"Liblinear failed to converge, increase \"\n"
     ]
    }
   ],
   "source": [
    "svm_clf_w = LinearSVC(C=1, loss=\"hinge\", random_state=42)\n",
    "svm_clf_w.fit(cancer_X_training, cancer_y_training.to_numpy().flatten())\n",
    "\n",
    "w_pred_train = svm_clf_w.predict(cancer_X_training)\n",
    "w_pred_test = svm_clf_w.predict(cancer_X_test)\n",
    "acc_cancer_train = accuracy_score(cancer_y_training,w_pred_train)\n",
    "acc_cancer_test = accuracy_score(cancer_y_test,w_pred_test)"
   ]
  },
  {
   "cell_type": "code",
   "execution_count": 9,
   "id": "6bbadf25-c21d-4111-bced-557736ac469e",
   "metadata": {},
   "outputs": [],
   "source": [
    "svm_clf = Pipeline([\n",
    "    (\"scaler\", StandardScaler()),\n",
    "    (\"linear_svc\", LinearSVC(C=1, loss=\"hinge\", random_state=42))\n",
    "    ])\n",
    "svm_clf.fit(cancer_X_training, cancer_y_training.to_numpy().flatten())\n",
    "\n",
    "w_pred_train = svm_clf.predict(cancer_X_training)\n",
    "w_pred_test = svm_clf.predict(cancer_X_test)\n",
    "\n",
    "acc_scal_cancer_train = accuracy_score(cancer_y_training,w_pred_train)\n",
    "acc_scal_cancer_test = accuracy_score(cancer_y_test,w_pred_test)"
   ]
  },
  {
   "cell_type": "code",
   "execution_count": 10,
   "id": "3bf41d41-168b-4fbb-9210-1212bdedce69",
   "metadata": {},
   "outputs": [],
   "source": [
    "# Saving\n",
    "ll = list()\n",
    "ll.append(acc_cancer_train)\n",
    "ll.append(acc_cancer_test)\n",
    "ll.append(acc_scal_cancer_train)\n",
    "ll.append(acc_scal_cancer_test)\n",
    "\n",
    "with open('bc_acc.pkl', 'wb') as handle:\n",
    "    pickle.dump(ll, handle)"
   ]
  },
  {
   "cell_type": "code",
   "execution_count": 11,
   "id": "a8f4adab-2a75-49a9-8bed-4e327d37c639",
   "metadata": {},
   "outputs": [
    {
     "data": {
      "text/html": [
       "<div>\n",
       "<style scoped>\n",
       "    .dataframe tbody tr th:only-of-type {\n",
       "        vertical-align: middle;\n",
       "    }\n",
       "\n",
       "    .dataframe tbody tr th {\n",
       "        vertical-align: top;\n",
       "    }\n",
       "\n",
       "    .dataframe thead th {\n",
       "        text-align: right;\n",
       "    }\n",
       "</style>\n",
       "<table border=\"1\" class=\"dataframe\">\n",
       "  <thead>\n",
       "    <tr style=\"text-align: right;\">\n",
       "      <th></th>\n",
       "      <th>length</th>\n",
       "      <th>width</th>\n",
       "      <th>target</th>\n",
       "    </tr>\n",
       "  </thead>\n",
       "  <tbody>\n",
       "    <tr>\n",
       "      <th>0</th>\n",
       "      <td>1.4</td>\n",
       "      <td>0.2</td>\n",
       "      <td>0</td>\n",
       "    </tr>\n",
       "    <tr>\n",
       "      <th>1</th>\n",
       "      <td>1.4</td>\n",
       "      <td>0.2</td>\n",
       "      <td>0</td>\n",
       "    </tr>\n",
       "    <tr>\n",
       "      <th>2</th>\n",
       "      <td>1.3</td>\n",
       "      <td>0.2</td>\n",
       "      <td>0</td>\n",
       "    </tr>\n",
       "    <tr>\n",
       "      <th>3</th>\n",
       "      <td>1.5</td>\n",
       "      <td>0.2</td>\n",
       "      <td>0</td>\n",
       "    </tr>\n",
       "    <tr>\n",
       "      <th>4</th>\n",
       "      <td>1.4</td>\n",
       "      <td>0.2</td>\n",
       "      <td>0</td>\n",
       "    </tr>\n",
       "    <tr>\n",
       "      <th>...</th>\n",
       "      <td>...</td>\n",
       "      <td>...</td>\n",
       "      <td>...</td>\n",
       "    </tr>\n",
       "    <tr>\n",
       "      <th>145</th>\n",
       "      <td>5.2</td>\n",
       "      <td>2.3</td>\n",
       "      <td>1</td>\n",
       "    </tr>\n",
       "    <tr>\n",
       "      <th>146</th>\n",
       "      <td>5.0</td>\n",
       "      <td>1.9</td>\n",
       "      <td>1</td>\n",
       "    </tr>\n",
       "    <tr>\n",
       "      <th>147</th>\n",
       "      <td>5.2</td>\n",
       "      <td>2.0</td>\n",
       "      <td>1</td>\n",
       "    </tr>\n",
       "    <tr>\n",
       "      <th>148</th>\n",
       "      <td>5.4</td>\n",
       "      <td>2.3</td>\n",
       "      <td>1</td>\n",
       "    </tr>\n",
       "    <tr>\n",
       "      <th>149</th>\n",
       "      <td>5.1</td>\n",
       "      <td>1.8</td>\n",
       "      <td>1</td>\n",
       "    </tr>\n",
       "  </tbody>\n",
       "</table>\n",
       "<p>150 rows × 3 columns</p>\n",
       "</div>"
      ],
      "text/plain": [
       "     length  width  target\n",
       "0       1.4    0.2       0\n",
       "1       1.4    0.2       0\n",
       "2       1.3    0.2       0\n",
       "3       1.5    0.2       0\n",
       "4       1.4    0.2       0\n",
       "..      ...    ...     ...\n",
       "145     5.2    2.3       1\n",
       "146     5.0    1.9       1\n",
       "147     5.2    2.0       1\n",
       "148     5.4    2.3       1\n",
       "149     5.1    1.8       1\n",
       "\n",
       "[150 rows x 3 columns]"
      ]
     },
     "execution_count": 11,
     "metadata": {},
     "output_type": "execute_result"
    }
   ],
   "source": [
    "data_iris = datasets.load_iris()\n",
    "data_iris = pd.DataFrame(\n",
    "    {\n",
    "        'length': data_iris[\"data\"][:, (2)],\n",
    "        'width': data_iris[\"data\"][:, (3)],\n",
    "        'target': ((data_iris[\"target\"] == 2).astype(np.int8))\n",
    "    }\n",
    "    ,columns=['length','width','target'])\n",
    "data_iris"
   ]
  },
  {
   "cell_type": "code",
   "execution_count": 12,
   "id": "8c4c78ba-aa41-4495-a1b5-6562d4000a37",
   "metadata": {},
   "outputs": [],
   "source": [
    "iris_X_training, iris_X_test, iris_y_training, iris_y_test = train_test_split(data_iris[['length','width']],data_iris[['target']],test_size=0.2)"
   ]
  },
  {
   "cell_type": "code",
   "execution_count": 13,
   "id": "0f9b9b8b-5a79-43c4-9a1f-bef972ace9f0",
   "metadata": {},
   "outputs": [
    {
     "name": "stderr",
     "output_type": "stream",
     "text": [
      "C:\\ProgramData\\Anaconda3\\lib\\site-packages\\sklearn\\svm\\_base.py:985: ConvergenceWarning: Liblinear failed to converge, increase the number of iterations.\n",
      "  warnings.warn(\"Liblinear failed to converge, increase \"\n"
     ]
    }
   ],
   "source": [
    "svm_clf_iris_w = LinearSVC(C=1, loss=\"hinge\", random_state=42)\n",
    "svm_clf_iris_w.fit(iris_X_training, iris_y_training.to_numpy().flatten())\n",
    "\n",
    "iris_w_pred_train = svm_clf_iris_w.predict(iris_X_training)\n",
    "iris_w_pred_test = svm_clf_iris_w.predict(iris_X_test)\n",
    "\n",
    "acc_iris_train = accuracy_score(iris_y_training,iris_w_pred_train)\n",
    "acc_iris_test = accuracy_score(iris_y_test,iris_w_pred_test)"
   ]
  },
  {
   "cell_type": "code",
   "execution_count": 14,
   "id": "a202dee7-23c6-4f90-94cc-b612f3f68899",
   "metadata": {},
   "outputs": [],
   "source": [
    "svm_clf_iris = Pipeline([\n",
    "    (\"scaler\", StandardScaler()),\n",
    "    (\"linear_svc\", LinearSVC(C=1, loss=\"hinge\", random_state=42))\n",
    "    ])\n",
    "svm_clf_iris.fit(iris_X_training, iris_y_training.to_numpy().flatten().astype(np.int8))\n",
    "\n",
    "iris_w_pred_training = svm_clf_iris.predict(iris_X_training)\n",
    "iris_w_pred_test = svm_clf_iris.predict(iris_X_test)\n",
    "\n",
    "acc_scal_iris_train = accuracy_score(iris_y_training, iris_w_pred_training)\n",
    "acc_scal_iris_test = accuracy_score(iris_y_test, iris_w_pred_test)"
   ]
  },
  {
   "cell_type": "code",
   "execution_count": 15,
   "id": "3322efc5-f24f-4f33-bf41-e23afbbfda7d",
   "metadata": {},
   "outputs": [],
   "source": [
    "# Saving\n",
    "ll = list()\n",
    "ll.append(acc_iris_train)\n",
    "ll.append(acc_iris_test)\n",
    "ll.append(acc_scal_iris_train)\n",
    "ll.append(acc_scal_iris_test)\n",
    "\n",
    "with open('iris_acc.pkl', 'wb') as handle:\n",
    "    pickle.dump(ll, handle)"
   ]
  },
  {
   "cell_type": "code",
   "execution_count": null,
   "id": "82c58cfd-bb61-4d2f-abe1-4473387ffb8d",
   "metadata": {},
   "outputs": [],
   "source": []
  }
 ],
 "metadata": {
  "kernelspec": {
   "display_name": "Python 3 (ipykernel)",
   "language": "python",
   "name": "python3"
  },
  "language_info": {
   "codemirror_mode": {
    "name": "ipython",
    "version": 3
   },
   "file_extension": ".py",
   "mimetype": "text/x-python",
   "name": "python",
   "nbconvert_exporter": "python",
   "pygments_lexer": "ipython3",
   "version": "3.9.7"
  }
 },
 "nbformat": 4,
 "nbformat_minor": 5
}
