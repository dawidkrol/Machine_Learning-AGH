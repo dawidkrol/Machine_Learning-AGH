{
 "cells": [
  {
   "cell_type": "code",
   "execution_count": 1,
   "id": "d0fa2985-8cd1-4b38-a989-5e16795d74e2",
   "metadata": {},
   "outputs": [],
   "source": [
    "import tensorflow as tf\n",
    "fashion_mnist = tf.keras.datasets.fashion_mnist\n",
    "(X_train, y_train), (X_test, y_test) = fashion_mnist.load_data()\n",
    "assert X_train.shape == (60000, 28, 28)\n",
    "assert X_test.shape == (10000, 28, 28)\n",
    "assert y_train.shape == (60000,)\n",
    "assert y_test.shape == (10000,)"
   ]
  },
  {
   "cell_type": "code",
   "execution_count": 2,
   "id": "d4d58d2b-52fa-4511-98a1-d930559795de",
   "metadata": {},
   "outputs": [],
   "source": [
    "from keras import preprocessing\n",
    "import numpy as np\n",
    "import keras\n",
    "\n",
    "# Przygotowanie danych\n",
    "image_X_train = np.array(X_train)\n",
    "image_X_test = np.array(X_test)\n",
    "\n",
    "scaled_X_train = image_X_train.astype('float32') / 255.0\n",
    "scaled_X_test = image_X_test.astype('float32') / 255.0"
   ]
  },
  {
   "cell_type": "code",
   "execution_count": 3,
   "id": "5370a792-ce81-416f-b3de-977678400aa9",
   "metadata": {},
   "outputs": [
    {
     "data": {
      "image/png": "[encoded data removed]",
      "text/plain": [
       "<Figure size 432x288 with 1 Axes>"
      ]
     },
     "metadata": {
      "needs_background": "light"
     },
     "output_type": "display_data"
    }
   ],
   "source": [
    "import matplotlib.pyplot as plt\n",
    "plt.imshow(X_train[142], cmap=\"binary\")\n",
    "plt.axis('off')\n",
    "plt.show()"
   ]
  },
  {
   "cell_type": "code",
   "execution_count": 4,
   "id": "23723c03-997a-4c92-8591-b1e16c77e8cc",
   "metadata": {},
   "outputs": [
    {
     "data": {
      "text/plain": [
       "'but'"
      ]
     },
     "execution_count": 4,
     "metadata": {},
     "output_type": "execute_result"
    }
   ],
   "source": [
    "class_names = [\"koszulka\", \"spodnie\", \"pulower\", \"sukienka\", \"kurtka\",\n",
    "\"sandał\", \"koszula\", \"but\", \"torba\", \"kozak\"]\n",
    "class_names[y_train[142]]"
   ]
  },
  {
   "cell_type": "code",
   "execution_count": 5,
   "id": "4bd5de2d-6162-4317-8acd-3abceb6de041",
   "metadata": {},
   "outputs": [],
   "source": [
    "model = tf.keras.Sequential()\n",
    "model.add(keras.layers.Flatten(input_shape=[28, 28]))\n",
    "model.add(keras.layers.Dense(300))\n",
    "model.add(keras.layers.Dense(100))\n",
    "model.add(keras.layers.Dense(10, activation=\"softmax\"))"
   ]
  },
  {
   "cell_type": "code",
   "execution_count": 6,
   "id": "e195c9ce-7ed7-4e63-b9d0-b34e389d9ed3",
   "metadata": {},
   "outputs": [
    {
     "data": {
      "text/plain": [
       "(60000,)"
      ]
     },
     "execution_count": 6,
     "metadata": {},
     "output_type": "execute_result"
    }
   ],
   "source": [
    "y_train.shape"
   ]
  },
  {
   "cell_type": "code",
   "execution_count": 7,
   "id": "adb6a591-28ce-419b-81c2-9fe61819f318",
   "metadata": {},
   "outputs": [
    {
     "name": "stdout",
     "output_type": "stream",
     "text": [
      "Model: \"sequential\"\n",
      "_________________________________________________________________\n",
      " Layer (type)                Output Shape              Param #   \n",
      "=================================================================\n",
      " flatten (Flatten)           (None, 784)               0         \n",
      "                                                                 \n",
      " dense (Dense)               (None, 300)               235500    \n",
      "                                                                 \n",
      " dense_1 (Dense)             (None, 100)               30100     \n",
      "                                                                 \n",
      " dense_2 (Dense)             (None, 10)                1010      \n",
      "                                                                 \n",
      "=================================================================\n",
      "Total params: 266,610\n",
      "Trainable params: 266,610\n",
      "Non-trainable params: 0\n",
      "_________________________________________________________________\n",
      "You must install pydot (`pip install pydot`) and install graphviz (see instructions at https://graphviz.gitlab.io/download/) for plot_model to work.\n"
     ]
    }
   ],
   "source": [
    "model.summary()\n",
    "tf.keras.utils.plot_model(model, \"fashion_mnist.png\", show_shapes=True)"
   ]
  },
  {
   "cell_type": "code",
   "execution_count": 8,
   "id": "09e17926-a518-4253-b062-47b9f57173fc",
   "metadata": {},
   "outputs": [],
   "source": [
    "model.compile(loss=\"sparse_categorical_crossentropy\",\n",
    "optimizer=\"sgd\",\n",
    "metrics=[\"accuracy\"])"
   ]
  },
  {
   "cell_type": "code",
   "execution_count": 9,
   "id": "3ef959ca-b5db-459c-98f2-db36a8d41edf",
   "metadata": {},
   "outputs": [],
   "source": [
    "tb_callback = tf.keras.callbacks.TensorBoard('./image_logs', update_freq=1)"
   ]
  },
  {
   "cell_type": "code",
   "execution_count": 10,
   "id": "03528684-0210-48fc-b70f-3e47cba499ce",
   "metadata": {},
   "outputs": [
    {
     "name": "stdout",
     "output_type": "stream",
     "text": [
      "Epoch 1/20\n",
      "1500/1500 [==============================] - 12s 7ms/step - loss: 0.6442 - accuracy: 0.7789 - val_loss: 0.5207 - val_accuracy: 0.8142\n",
      "Epoch 2/20\n",
      "1500/1500 [==============================] - 10s 6ms/step - loss: 0.4883 - accuracy: 0.8313 - val_loss: 0.4790 - val_accuracy: 0.8321\n",
      "Epoch 3/20\n",
      "1500/1500 [==============================] - 10s 6ms/step - loss: 0.4605 - accuracy: 0.8400 - val_loss: 0.4601 - val_accuracy: 0.8401\n",
      "Epoch 4/20\n",
      "1500/1500 [==============================] - 10s 7ms/step - loss: 0.4439 - accuracy: 0.8473 - val_loss: 0.4561 - val_accuracy: 0.8391\n",
      "Epoch 5/20\n",
      "1500/1500 [==============================] - 14s 9ms/step - loss: 0.4336 - accuracy: 0.8499 - val_loss: 0.4341 - val_accuracy: 0.8482\n",
      "Epoch 6/20\n",
      "1500/1500 [==============================] - 10s 7ms/step - loss: 0.4259 - accuracy: 0.8526 - val_loss: 0.4365 - val_accuracy: 0.8460\n",
      "Epoch 7/20\n",
      "1500/1500 [==============================] - 11s 7ms/step - loss: 0.4215 - accuracy: 0.8543 - val_loss: 0.4351 - val_accuracy: 0.8476\n",
      "Epoch 8/20\n",
      "1500/1500 [==============================] - 13s 9ms/step - loss: 0.4159 - accuracy: 0.8554 - val_loss: 0.4473 - val_accuracy: 0.8422\n",
      "Epoch 9/20\n",
      "1500/1500 [==============================] - 12s 8ms/step - loss: 0.4124 - accuracy: 0.8567 - val_loss: 0.4240 - val_accuracy: 0.8513\n",
      "Epoch 10/20\n",
      "1500/1500 [==============================] - 18s 12ms/step - loss: 0.4091 - accuracy: 0.8577 - val_loss: 0.4416 - val_accuracy: 0.8438\n",
      "Epoch 11/20\n",
      "1500/1500 [==============================] - 14s 9ms/step - loss: 0.4061 - accuracy: 0.8568 - val_loss: 0.4204 - val_accuracy: 0.8561\n",
      "Epoch 12/20\n",
      "1500/1500 [==============================] - 12s 8ms/step - loss: 0.4034 - accuracy: 0.8593 - val_loss: 0.4230 - val_accuracy: 0.8531\n",
      "Epoch 13/20\n",
      "1500/1500 [==============================] - 11s 7ms/step - loss: 0.4008 - accuracy: 0.8605 - val_loss: 0.4210 - val_accuracy: 0.8495\n",
      "Epoch 14/20\n",
      "1500/1500 [==============================] - 11s 7ms/step - loss: 0.3995 - accuracy: 0.8610 - val_loss: 0.4207 - val_accuracy: 0.8512\n",
      "Epoch 15/20\n",
      "1500/1500 [==============================] - 10s 6ms/step - loss: 0.3977 - accuracy: 0.8606 - val_loss: 0.4252 - val_accuracy: 0.8493\n",
      "Epoch 16/20\n",
      "1500/1500 [==============================] - 9s 6ms/step - loss: 0.3958 - accuracy: 0.8626 - val_loss: 0.4338 - val_accuracy: 0.8491\n",
      "Epoch 17/20\n",
      "1500/1500 [==============================] - 10s 6ms/step - loss: 0.3941 - accuracy: 0.8614 - val_loss: 0.4144 - val_accuracy: 0.8566\n",
      "Epoch 18/20\n",
      "1500/1500 [==============================] - 10s 6ms/step - loss: 0.3912 - accuracy: 0.8638 - val_loss: 0.4262 - val_accuracy: 0.8487\n",
      "Epoch 19/20\n",
      "1500/1500 [==============================] - 10s 6ms/step - loss: 0.3913 - accuracy: 0.8628 - val_loss: 0.4235 - val_accuracy: 0.8510\n",
      "Epoch 20/20\n",
      "1500/1500 [==============================] - 9s 6ms/step - loss: 0.3893 - accuracy: 0.8638 - val_loss: 0.4227 - val_accuracy: 0.8521\n"
     ]
    }
   ],
   "source": [
    "history = model.fit(scaled_X_train, y_train, epochs=20, validation_split=0.2, callbacks=[tb_callback])"
   ]
  },
  {
   "cell_type": "code",
   "execution_count": 11,
   "id": "18ab130d-b90f-4567-983e-bfce0d51546f",
   "metadata": {},
   "outputs": [
    {
     "name": "stdout",
     "output_type": "stream",
     "text": [
      "1/1 [==============================] - 0s 251ms/step\n",
      "Prediction: sandał\n",
      "Confidence: 1.0\n",
      "Truth: sandał\n"
     ]
    },
    {
     "data": {
      "image/png": "[encoded data removed]",
      "text/plain": [
       "<Figure size 432x288 with 1 Axes>"
      ]
     },
     "metadata": {
      "needs_background": "light"
     },
     "output_type": "display_data"
    }
   ],
   "source": [
    "image_index = np.random.randint(len(X_test))\n",
    "image = np.array([X_test[image_index]])\n",
    "confidences = model.predict(image)\n",
    "confidence = np.max(confidences[0])\n",
    "prediction = np.argmax(confidences[0])\n",
    "print(\"Prediction:\", class_names[prediction])\n",
    "print(\"Confidence:\", confidence)\n",
    "print(\"Truth:\", class_names[y_test[image_index]])\n",
    "plt.imshow(image[0], cmap=\"binary\")\n",
    "plt.axis('off')\n",
    "plt.show()"
   ]
  },
  {
   "cell_type": "code",
   "execution_count": 12,
   "id": "d381c395-8fb5-4f3c-b7ba-82c67b593768",
   "metadata": {},
   "outputs": [
    {
     "data": {
      "text/plain": [
       "Reusing TensorBoard on port 6006 (pid 20924), started 22:11:49 ago. (Use '!kill 20924' to kill it.)"
      ]
     },
     "metadata": {},
     "output_type": "display_data"
    },
    {
     "data": {
      "text/html": [
       "\n",
       "      <iframe id=\"tensorboard-frame-e072b34f8534a16\" width=\"100%\" height=\"800\" frameborder=\"0\">\n",
       "      </iframe>\n",
       "      <script>\n",
       "        (function() {\n",
       "          const frame = document.getElementById(\"tensorboard-frame-e072b34f8534a16\");\n",
       "          const url = new URL(\"/\", window.location);\n",
       "          const port = 6006;\n",
       "          if (port) {\n",
       "            url.port = port;\n",
       "          }\n",
       "          frame.src = url;\n",
       "        })();\n",
       "      </script>\n",
       "    "
      ],
      "text/plain": [
       "<IPython.core.display.HTML object>"
      ]
     },
     "metadata": {},
     "output_type": "display_data"
    }
   ],
   "source": [
    "%load_ext tensorboard\n",
    "%tensorboard --logdir ./image_logs"
   ]
  },
  {
   "cell_type": "code",
   "execution_count": 13,
   "id": "c7737f6f-1f28-406c-bb8b-df65b77adcbe",
   "metadata": {},
   "outputs": [],
   "source": [
    "model.save(\"fashion_clf.h5\")"
   ]
  },
  {
   "cell_type": "code",
   "execution_count": 14,
   "id": "dfe2d949-efd2-4c5e-8987-51398c2b897e",
   "metadata": {},
   "outputs": [],
   "source": [
    "from sklearn.datasets import fetch_california_housing\n",
    "from sklearn.model_selection import train_test_split\n",
    "from sklearn.preprocessing import StandardScaler\n",
    "housing = fetch_california_housing()"
   ]
  },
  {
   "cell_type": "code",
   "execution_count": 15,
   "id": "646e8dad-ad37-4480-8875-72acddafff67",
   "metadata": {},
   "outputs": [
    {
     "data": {
      "text/plain": [
       "array([   8.1111    ,   13.        ,    7.94672131,    1.01229508,\n",
       "        928.        ,    3.80327869,   33.71      , -117.77      ])"
      ]
     },
     "execution_count": 15,
     "metadata": {},
     "output_type": "execute_result"
    }
   ],
   "source": [
    "X_train_hous, X_test_hous, y_train_hous, y_test_hous = train_test_split(housing['data'], housing['target'], test_size=0.2, random_state=1)\n",
    "\n",
    "X_train_hous, X_val_hous, y_train_hous, y_val_hous = train_test_split(X_train_hous, y_train_hous, test_size=0.2, random_state=1)\n",
    "X_train_hous[0]"
   ]
  },
  {
   "cell_type": "code",
   "execution_count": 16,
   "id": "af107840-eeb1-48fc-8eba-326ee3d0e70c",
   "metadata": {},
   "outputs": [
    {
     "data": {
      "text/plain": [
       "array([ 0.00880023, -0.00487753,  0.00361546, -0.00065922, -0.0017228 ,\n",
       "        0.00021274, -0.00352053,  0.00352439], dtype=float32)"
      ]
     },
     "execution_count": 16,
     "metadata": {},
     "output_type": "execute_result"
    }
   ],
   "source": [
    "scaler = StandardScaler()\n",
    "X_train_hous = scaler.fit_transform(X_train_hous)\n",
    "X_val_hous = scaler.transform(X_val_hous)\n",
    "X_test_hous = scaler.transform(X_test_hous)\n",
    "\n",
    "X_train_hous = X_train_hous.astype('float32') / 255.0\n",
    "X_val_hous = X_val_hous.astype('float32') / 255.0\n",
    "X_test_hous = X_test_hous.astype('float32') / 255.0\n",
    "\n",
    "X_train_hous[0]"
   ]
  },
  {
   "cell_type": "code",
   "execution_count": 17,
   "id": "a70515f8-4608-495e-baf9-4c20750b3c6a",
   "metadata": {},
   "outputs": [],
   "source": [
    "model_housing = tf.keras.Sequential()\n",
    "model_housing.add(keras.layers.Dense(30))\n",
    "model_housing.add(keras.layers.Dense(1))"
   ]
  },
  {
   "cell_type": "code",
   "execution_count": 18,
   "id": "f1dfd8b3-daf7-428e-be54-074c2b95338e",
   "metadata": {},
   "outputs": [],
   "source": [
    "model_housing.compile(optimizer='SGD', loss=tf.keras.losses.MeanSquaredError())"
   ]
  },
  {
   "cell_type": "code",
   "execution_count": 19,
   "id": "32ae0733-3855-481a-8530-076f67012b8c",
   "metadata": {},
   "outputs": [],
   "source": [
    "hs1_callback = tf.keras.callbacks.TensorBoard('./housing_logs', update_freq=1)\n",
    "callback = tf.keras.callbacks.EarlyStopping(monitor='loss', patience=5, min_delta=0.01, verbose=1)"
   ]
  },
  {
   "cell_type": "code",
   "execution_count": 20,
   "id": "2cad4d5e-e4d9-403a-943e-f5f32d0fd1c0",
   "metadata": {},
   "outputs": [
    {
     "name": "stdout",
     "output_type": "stream",
     "text": [
      "Epoch 1/20\n",
      "413/413 [==============================] - 3s 6ms/step - loss: 1.4374 - val_loss: 1.3132\n",
      "Epoch 2/20\n",
      "413/413 [==============================] - 2s 4ms/step - loss: 1.3423 - val_loss: 1.3113\n",
      "Epoch 3/20\n",
      "413/413 [==============================] - 2s 4ms/step - loss: 1.3417 - val_loss: 1.3114\n",
      "Epoch 4/20\n",
      "413/413 [==============================] - 2s 4ms/step - loss: 1.3400 - val_loss: 1.3102\n",
      "Epoch 5/20\n",
      "413/413 [==============================] - 2s 4ms/step - loss: 1.3405 - val_loss: 1.3105\n",
      "Epoch 6/20\n",
      "413/413 [==============================] - 2s 4ms/step - loss: 1.3396 - val_loss: 1.3086\n",
      "Epoch 7/20\n",
      "413/413 [==============================] - 2s 4ms/step - loss: 1.3388 - val_loss: 1.3092\n",
      "Epoch 7: early stopping\n"
     ]
    }
   ],
   "source": [
    "history_hs = model_housing.fit(X_train_hous, y_train_hous, epochs=20, validation_data=[X_val_hous, y_val_hous], callbacks=[hs1_callback,callback])"
   ]
  },
  {
   "cell_type": "code",
   "execution_count": 21,
   "id": "6d176146-9c94-44a2-a0fc-6492bda9c557",
   "metadata": {},
   "outputs": [
    {
     "name": "stdout",
     "output_type": "stream",
     "text": [
      "The tensorboard extension is already loaded. To reload it, use:\n",
      "  %reload_ext tensorboard\n"
     ]
    },
    {
     "data": {
      "text/plain": [
       "Reusing TensorBoard on port 6006 (pid 21244), started 21:47:51 ago. (Use '!kill 21244' to kill it.)"
      ]
     },
     "metadata": {},
     "output_type": "display_data"
    },
    {
     "data": {
      "text/html": [
       "\n",
       "      <iframe id=\"tensorboard-frame-82cfbe9872c3644b\" width=\"100%\" height=\"800\" frameborder=\"0\">\n",
       "      </iframe>\n",
       "      <script>\n",
       "        (function() {\n",
       "          const frame = document.getElementById(\"tensorboard-frame-82cfbe9872c3644b\");\n",
       "          const url = new URL(\"/\", window.location);\n",
       "          const port = 6006;\n",
       "          if (port) {\n",
       "            url.port = port;\n",
       "          }\n",
       "          frame.src = url;\n",
       "        })();\n",
       "      </script>\n",
       "    "
      ],
      "text/plain": [
       "<IPython.core.display.HTML object>"
      ]
     },
     "metadata": {},
     "output_type": "display_data"
    }
   ],
   "source": [
    "%load_ext tensorboard\n",
    "%tensorboard --logdir ./housing_logs"
   ]
  },
  {
   "cell_type": "code",
   "execution_count": 22,
   "id": "40e38d33-b9f3-4953-8ff2-046acc114cc7",
   "metadata": {},
   "outputs": [],
   "source": [
    "model_housing.save(\"reg_housing_1.h5\")"
   ]
  },
  {
   "cell_type": "code",
   "execution_count": 23,
   "id": "08934b4f-c5f9-4319-a97d-220c54646b43",
   "metadata": {},
   "outputs": [
    {
     "name": "stdout",
     "output_type": "stream",
     "text": [
      "Epoch 1/20\n",
      "413/413 [==============================] - 3s 5ms/step - loss: 1.4252 - val_loss: 1.3181\n",
      "Epoch 2/20\n",
      "413/413 [==============================] - 2s 4ms/step - loss: 1.3474 - val_loss: 1.3161\n",
      "Epoch 3/20\n",
      "413/413 [==============================] - 2s 4ms/step - loss: 1.3471 - val_loss: 1.3152\n",
      "Epoch 4/20\n",
      "413/413 [==============================] - 2s 4ms/step - loss: 1.3456 - val_loss: 1.3231\n",
      "Epoch 5/20\n",
      "413/413 [==============================] - 2s 4ms/step - loss: 1.3443 - val_loss: 1.3143\n",
      "Epoch 6/20\n",
      "413/413 [==============================] - 2s 4ms/step - loss: 1.3435 - val_loss: 1.3150\n",
      "Epoch 7/20\n",
      "413/413 [==============================] - 2s 4ms/step - loss: 1.3435 - val_loss: 1.3139\n",
      "Epoch 7: early stopping\n"
     ]
    }
   ],
   "source": [
    "model_housing_2 = tf.keras.Sequential()\n",
    "model_housing_2.add(keras.layers.Dense(60))\n",
    "model_housing_2.add(keras.layers.Dense(1))\n",
    "\n",
    "model_housing_2.compile(optimizer='SGD', loss=tf.keras.losses.MeanSquaredError())\n",
    "\n",
    "hs2_callback = tf.keras.callbacks.TensorBoard('./housing_logs/housing2_logs', update_freq=1)\n",
    "callback2 = tf.keras.callbacks.EarlyStopping(monitor='loss', patience=5, min_delta=0.01, verbose=1)\n",
    "\n",
    "history_hs2 = model_housing_2.fit(X_train_hous, y_train_hous, epochs=20, validation_data=[X_val_hous, y_val_hous], callbacks=[hs2_callback,callback2])\n",
    "model_housing_2.save(\"reg_housing_2.h5\")"
   ]
  },
  {
   "cell_type": "code",
   "execution_count": 24,
   "id": "433fc42f-630b-4ce4-9f50-c1920ce6ce3e",
   "metadata": {},
   "outputs": [
    {
     "name": "stdout",
     "output_type": "stream",
     "text": [
      "Epoch 1/20\n",
      "413/413 [==============================] - 3s 5ms/step - loss: 1.3960 - val_loss: 1.3178\n",
      "Epoch 2/20\n",
      "413/413 [==============================] - 2s 4ms/step - loss: 1.3431 - val_loss: 1.3102\n",
      "Epoch 3/20\n",
      "413/413 [==============================] - 2s 4ms/step - loss: 1.3420 - val_loss: 1.3137\n",
      "Epoch 4/20\n",
      "413/413 [==============================] - 2s 4ms/step - loss: 1.3410 - val_loss: 1.3082\n",
      "Epoch 5/20\n",
      "413/413 [==============================] - 2s 4ms/step - loss: 1.3401 - val_loss: 1.3065\n",
      "Epoch 6/20\n",
      "413/413 [==============================] - 2s 4ms/step - loss: 1.3392 - val_loss: 1.3072\n",
      "Epoch 7/20\n",
      "413/413 [==============================] - 2s 4ms/step - loss: 1.3356 - val_loss: 1.3033\n",
      "Epoch 7: early stopping\n"
     ]
    }
   ],
   "source": [
    "model_housing_3 = tf.keras.Sequential()\n",
    "model_housing_3.add(keras.layers.Dense(20))\n",
    "model_housing_3.add(keras.layers.Dense(20))\n",
    "model_housing_3.add(keras.layers.Dense(1))\n",
    "\n",
    "model_housing_3.compile(optimizer='SGD', loss=tf.keras.losses.MeanSquaredError())\n",
    "\n",
    "hs3_callback = tf.keras.callbacks.TensorBoard('./housing_logs/housing3_logs', update_freq=1)\n",
    "callback3 = tf.keras.callbacks.EarlyStopping(monitor='loss', patience=5, min_delta=0.01, verbose=1)\n",
    "\n",
    "history_hs3 = model_housing_3.fit(X_train_hous, y_train_hous, epochs=20, validation_data=[X_val_hous, y_val_hous], callbacks=[hs3_callback,callback3])\n",
    "model_housing_3.save(\"reg_housing_3.h5\")"
   ]
  },
  {
   "cell_type": "code",
   "execution_count": null,
   "id": "31083439-3bee-4ecf-96a8-89f01036b12f",
   "metadata": {},
   "outputs": [],
   "source": []
  }
 ],
 "metadata": {
  "kernelspec": {
   "display_name": "Python 3 (ipykernel)",
   "language": "python",
   "name": "python3"
  },
  "language_info": {
   "codemirror_mode": {
    "name": "ipython",
    "version": 3
   },
   "file_extension": ".py",
   "mimetype": "text/x-python",
   "name": "python",
   "nbconvert_exporter": "python",
   "pygments_lexer": "ipython3",
   "version": "3.9.7"
  }
 },
 "nbformat": 4,
 "nbformat_minor": 5
}
