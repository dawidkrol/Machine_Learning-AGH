{
 "cells": [
  {
   "cell_type": "code",
   "execution_count": 3,
   "id": "dcd4390a-b06b-4d57-9754-f7c870eecb38",
   "metadata": {},
   "outputs": [],
   "source": [
    "from sklearn.datasets import load_iris\n",
    "import pandas as pd\n",
    "from sklearn.model_selection import train_test_split\n",
    "from sklearn.linear_model import Perceptron\n",
    "from sklearn.neural_network import MLPClassifier\n",
    "from sklearn.metrics import accuracy_score\n",
    "import numpy as np\n",
    "iris = load_iris(as_frame=True)"
   ]
  },
  {
   "cell_type": "code",
   "execution_count": 4,
   "id": "1e95a805-2fe4-40b9-a643-da74469d906c",
   "metadata": {},
   "outputs": [
    {
     "data": {
      "text/plain": [
       "<AxesSubplot:xlabel='petal length (cm)', ylabel='petal width (cm)'>"
      ]
     },
     "execution_count": 4,
     "metadata": {},
     "output_type": "execute_result"
    },
    {
     "data": {
      "image/png": "[encoded data removed]",
      "text/plain": [
       "<Figure size 720x288 with 2 Axes>"
      ]
     },
     "metadata": {
      "needs_background": "light"
     },
     "output_type": "display_data"
    }
   ],
   "source": [
    "pd.concat([iris.data, iris.target], axis=1).plot.scatter(\n",
    "x='petal length (cm)', y='petal width (cm)', c='target',\n",
    "colormap='viridis', figsize=(10,4)\n",
    ")"
   ]
  },
  {
   "cell_type": "code",
   "execution_count": 5,
   "id": "8edd8379-f3ee-4c0d-9d1d-53afb458550c",
   "metadata": {},
   "outputs": [],
   "source": [
    "iris_X_training, iris_X_test, iris_y_training, iris_y_test = train_test_split(iris['data'],iris['target'],test_size=0.2)"
   ]
  },
  {
   "cell_type": "code",
   "execution_count": 6,
   "id": "aff60671-3bd6-48b0-91ca-3847d0e9394d",
   "metadata": {},
   "outputs": [
    {
     "data": {
      "text/plain": [
       "[(1.0, 1.4999999999999991, 5.1),\n",
       " (3.0, 1.29999999999999, -18.800000000000004),\n",
       " (-14.0, -33.09999999999998, -28.399999999999967)]"
      ]
     },
     "execution_count": 6,
     "metadata": {},
     "output_type": "execute_result"
    }
   ],
   "source": [
    "import pickle\n",
    "\n",
    "y_train_0 = (iris_y_training == 0).astype(int)\n",
    "y_train_1 = (iris_y_training == 1).astype(int)\n",
    "y_train_2 = (iris_y_training == 2).astype(int)\n",
    "\n",
    "y_test_0 = (iris_y_test == 0).astype(int)\n",
    "y_test_1 = (iris_y_test == 1).astype(int)\n",
    "y_test_2 = (iris_y_test == 2).astype(int)\n",
    "\n",
    "type_0_per = Perceptron()\n",
    "type_0_per.fit(iris_X_training, y_train_0)\n",
    "\n",
    "type_1_per = Perceptron()\n",
    "type_1_per.fit(iris_X_training, y_train_1)\n",
    "\n",
    "type_2_per = Perceptron()\n",
    "type_2_per.fit(iris_X_training, y_train_2)\n",
    "\n",
    "out = [\n",
    "    [\n",
    "        accuracy_score(y_train_0, type_0_per.predict(iris_X_training)),\n",
    "        accuracy_score(y_test_0, type_0_per.predict(iris_X_test)),\n",
    "    ],\n",
    "    [\n",
    "        accuracy_score(y_train_1, type_1_per.predict(iris_X_training)),\n",
    "        accuracy_score(y_test_1, type_1_per.predict(iris_X_test)),\n",
    "    ],\n",
    "    [\n",
    "        accuracy_score(y_train_2, type_2_per.predict(iris_X_training)),\n",
    "        accuracy_score(y_test_2, type_2_per.predict(iris_X_test)),\n",
    "    ],\n",
    "]\n",
    "pickle.dump(out, open(\"per_acc.pkl\", \"wb\"))\n",
    "\n",
    "out2 = [\n",
    "    (\n",
    "        type_0_per.intercept_[0],\n",
    "        type_0_per.coef_[0][0],\n",
    "        type_0_per.coef_[0][1],\n",
    "    ),\n",
    "    (\n",
    "        type_1_per.intercept_[0],\n",
    "        type_1_per.coef_[0][0],\n",
    "        type_1_per.coef_[0][1],\n",
    "    ),\n",
    "    (\n",
    "        type_2_per.intercept_[0],\n",
    "        type_2_per.coef_[0][0],\n",
    "        type_2_per.coef_[0][1],\n",
    "    ),\n",
    "]\n",
    "pickle.dump(out2, open(\"per_wght.pkl\", \"wb\"))\n",
    "out2"
   ]
  },
  {
   "cell_type": "code",
   "execution_count": 7,
   "id": "fa4f4438-2829-4367-bc19-6c701269d139",
   "metadata": {},
   "outputs": [
    {
     "name": "stdout",
     "output_type": "stream",
     "text": [
      "1.0\n"
     ]
    },
    {
     "name": "stderr",
     "output_type": "stream",
     "text": [
      "C:\\ProgramData\\Anaconda3\\lib\\site-packages\\sklearn\\neural_network\\_multilayer_perceptron.py:614: ConvergenceWarning: Stochastic Optimizer: Maximum iterations (300) reached and the optimization hasn't converged yet.\n",
      "  warnings.warn(\n"
     ]
    }
   ],
   "source": [
    "X = np.array([[0, 0], [0, 1], [1, 0], [1, 1]])\n",
    "y = np.array([0, 1, 1, 0])\n",
    "clf = MLPClassifier(random_state=1, max_iter=300)\n",
    "clf = clf.fit(X, y)\n",
    "print(clf.score(X,y))\n",
    "with open('mlp_xor.pkl', 'wb') as f:\n",
    "    pickle.dump(clf, f)"
   ]
  },
  {
   "cell_type": "code",
   "execution_count": 8,
   "id": "552f8207-0c65-4056-b007-d4d282a9a3f0",
   "metadata": {},
   "outputs": [
    {
     "name": "stderr",
     "output_type": "stream",
     "text": [
      "C:\\ProgramData\\Anaconda3\\lib\\site-packages\\sklearn\\neural_network\\_multilayer_perceptron.py:614: ConvergenceWarning: Stochastic Optimizer: Maximum iterations (200) reached and the optimization hasn't converged yet.\n",
      "  warnings.warn(\n"
     ]
    }
   ],
   "source": [
    "clf2 = MLPClassifier(hidden_layer_sizes=(2,))\n",
    "clf2.fit(X, y)\n",
    "clf2.coefs_[1][0][0] = -1\n",
    "clf2.intercepts_[0] = [-1.5, -0.5]\n",
    "clf2.intercepts_[1][0] = -0.5\n",
    "with open('mlp_xor_fixed.pkl', 'wb') as file:\n",
    "    pickle.dump(clf2, file)"
   ]
  },
  {
   "cell_type": "code",
   "execution_count": null,
   "id": "ec819c57-9746-4108-9778-21cee8c86a3b",
   "metadata": {},
   "outputs": [],
   "source": []
  }
 ],
 "metadata": {
  "kernelspec": {
   "display_name": "Python 3 (ipykernel)",
   "language": "python",
   "name": "python3"
  },
  "language_info": {
   "codemirror_mode": {
    "name": "ipython",
    "version": 3
   },
   "file_extension": ".py",
   "mimetype": "text/x-python",
   "name": "python",
   "nbconvert_exporter": "python",
   "pygments_lexer": "ipython3",
   "version": "3.9.7"
  }
 },
 "nbformat": 4,
 "nbformat_minor": 5
}
