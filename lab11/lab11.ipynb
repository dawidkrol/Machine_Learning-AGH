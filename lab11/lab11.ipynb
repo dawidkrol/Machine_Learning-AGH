{
 "cells": [
  {
   "cell_type": "code",
   "execution_count": 1,
   "id": "10fbe3f8-bcc3-44c3-a296-7da48d4af889",
   "metadata": {},
   "outputs": [
    {
     "data": {
      "text/plain": [
       "3842"
      ]
     },
     "execution_count": 1,
     "metadata": {},
     "output_type": "execute_result"
    }
   ],
   "source": [
    "from sklearn.datasets import fetch_california_housing\n",
    "from sklearn.model_selection import train_test_split\n",
    "from sklearn.preprocessing import StandardScaler\n",
    "import numpy as np\n",
    "\n",
    "housing = fetch_california_housing()\n",
    "\n",
    "X_train_full, X_test, y_train_full, y_test = train_test_split(housing.data, housing.target, random_state=42)\n",
    "X_train, X_valid, y_train, y_valid = train_test_split(X_train_full, y_train_full, random_state=42)\n",
    "\n",
    "scaler = StandardScaler()\n",
    "\n",
    "X_train = scaler.fit_transform(X_train)\n",
    "X_valid = scaler.transform(X_valid)\n",
    "X_test = scaler.transform(X_test)\n",
    "\n",
    "len(np.unique(housing['target']))"
   ]
  },
  {
   "cell_type": "code",
   "execution_count": 2,
   "id": "34af4141-9bf5-45fe-96b2-885b9f8f8710",
   "metadata": {},
   "outputs": [],
   "source": [
    "from scipy.stats import reciprocal\n",
    "from sklearn.model_selection import RandomizedSearchCV\n",
    "\n",
    "param_distribs = {\n",
    "    \"model__n_hidden\": [0, 1, 2, 3],\n",
    "    \"model__n_neurons\": np.arange(1, 100),\n",
    "    \"model__learning_rate\":  reciprocal(3e-4, 3e-2).rvs(1000).tolist(),\n",
    "    \"model__optimizer\": ['adam','sgd', 'nesterov'] \n",
    "}"
   ]
  },
  {
   "cell_type": "code",
   "execution_count": 3,
   "id": "46f58846-1d68-4e86-834d-755215ca6edf",
   "metadata": {},
   "outputs": [],
   "source": [
    "def build_model(n_hidden, n_neurons, optimizer, learning_rate):\n",
    "    if optimizer == 'sgd':\n",
    "        optimizer = tf.keras.optimizers.SGD(learning_rate=learning_rate)\n",
    "    if optimizer == 'adam':\n",
    "        optimizer = tf.keras.optimizers.Adam(learning_rate=learning_rate)\n",
    "    else:\n",
    "        optimizer = tf.keras.optimizers.SGD(learning_rate=learning_rate, nesterov=True)\n",
    "    model = tf.keras.models.Sequential()\n",
    "    for i in range(n_hidden):\n",
    "        if i == 0:\n",
    "            model.add(tf.keras.layers.Dense(n_neurons, activation=\"relu\", input_shape=X_train.shape[1:]))\n",
    "        else:\n",
    "            model.add(tf.keras.layers.Dense(n_neurons, activation=\"relu\"))\n",
    "    model.add(tf.keras.layers.Dense(1))\n",
    "    model.compile(optimizer=optimizer, loss=tf.keras.losses.MeanSquaredError())\n",
    "    return model"
   ]
  },
  {
   "cell_type": "code",
   "execution_count": 4,
   "id": "a60a97f7-f95e-44ef-a1a6-626b2ee5d4d9",
   "metadata": {},
   "outputs": [],
   "source": [
    "import scikeras\n",
    "from scikeras.wrappers import KerasRegressor\n",
    "import tensorflow as tf\n",
    "\n",
    "es = tf.keras.callbacks.EarlyStopping(patience=10, min_delta=1.0, verbose=1)\n",
    "keras_reg = KerasRegressor(build_model, callbacks=[es])"
   ]
  },
  {
   "cell_type": "code",
   "execution_count": 5,
   "id": "482ac845-0d83-4379-b60a-44641b27affc",
   "metadata": {},
   "outputs": [
    {
     "name": "stdout",
     "output_type": "stream",
     "text": [
      "Fitting 3 folds for each of 10 candidates, totalling 30 fits\n",
      "Epoch 15: early stopping\n",
      "121/121 [==============================] - 1s 3ms/step\n",
      "[CV] END model__learning_rate=0.009391503935379304, model__n_hidden=2, model__n_neurons=43, model__optimizer=sgd; total time=  21.0s\n",
      "Epoch 11: early stopping\n",
      "121/121 [==============================] - 1s 3ms/step\n",
      "[CV] END model__learning_rate=0.009391503935379304, model__n_hidden=2, model__n_neurons=43, model__optimizer=sgd; total time=  14.8s\n",
      "Epoch 15: early stopping\n",
      "121/121 [==============================] - 1s 3ms/step\n",
      "[CV] END model__learning_rate=0.009391503935379304, model__n_hidden=2, model__n_neurons=43, model__optimizer=sgd; total time=  21.1s\n",
      "[CV] END model__learning_rate=0.005633126147948463, model__n_hidden=0, model__n_neurons=29, model__optimizer=nesterov; total time=   0.0s\n",
      "[CV] END model__learning_rate=0.005633126147948463, model__n_hidden=0, model__n_neurons=29, model__optimizer=nesterov; total time=   0.0s\n",
      "[CV] END model__learning_rate=0.005633126147948463, model__n_hidden=0, model__n_neurons=29, model__optimizer=nesterov; total time=   0.0s\n",
      "[CV] END model__learning_rate=0.0021438912911729223, model__n_hidden=0, model__n_neurons=93, model__optimizer=nesterov; total time=   0.0s\n",
      "[CV] END model__learning_rate=0.0021438912911729223, model__n_hidden=0, model__n_neurons=93, model__optimizer=nesterov; total time=   0.0s\n",
      "[CV] END model__learning_rate=0.0021438912911729223, model__n_hidden=0, model__n_neurons=93, model__optimizer=nesterov; total time=   0.0s\n",
      "Epoch 11: early stopping\n",
      "121/121 [==============================] - 1s 4ms/step\n",
      "[CV] END model__learning_rate=0.0012793145373835187, model__n_hidden=1, model__n_neurons=25, model__optimizer=adam; total time=  15.2s\n",
      "Epoch 11: early stopping\n",
      "121/121 [==============================] - 1s 3ms/step\n",
      "[CV] END model__learning_rate=0.0012793145373835187, model__n_hidden=1, model__n_neurons=25, model__optimizer=adam; total time=  14.7s\n",
      "Epoch 11: early stopping\n",
      "121/121 [==============================] - 1s 4ms/step\n",
      "[CV] END model__learning_rate=0.0012793145373835187, model__n_hidden=1, model__n_neurons=25, model__optimizer=adam; total time=  15.4s\n",
      "Epoch 11: early stopping\n",
      "121/121 [==============================] - 1s 4ms/step\n",
      "[CV] END model__learning_rate=0.0036446300582734987, model__n_hidden=2, model__n_neurons=20, model__optimizer=adam; total time=  15.9s\n",
      "Epoch 11: early stopping\n",
      "121/121 [==============================] - 1s 3ms/step\n",
      "[CV] END model__learning_rate=0.0036446300582734987, model__n_hidden=2, model__n_neurons=20, model__optimizer=adam; total time=  23.4s\n",
      "Epoch 13: early stopping\n",
      "121/121 [==============================] - 1s 5ms/step\n",
      "[CV] END model__learning_rate=0.0036446300582734987, model__n_hidden=2, model__n_neurons=20, model__optimizer=adam; total time=  18.7s\n",
      "Epoch 11: early stopping\n",
      "121/121 [==============================] - 1s 3ms/step\n",
      "[CV] END model__learning_rate=0.022923715361801714, model__n_hidden=3, model__n_neurons=88, model__optimizer=sgd; total time=  16.5s\n",
      "Epoch 11: early stopping\n",
      "121/121 [==============================] - 1s 5ms/step\n",
      "[CV] END model__learning_rate=0.022923715361801714, model__n_hidden=3, model__n_neurons=88, model__optimizer=sgd; total time=  17.1s\n",
      "Epoch 11: early stopping\n",
      "121/121 [==============================] - 1s 3ms/step\n",
      "[CV] END model__learning_rate=0.022923715361801714, model__n_hidden=3, model__n_neurons=88, model__optimizer=sgd; total time=  17.1s\n",
      "[CV] END model__learning_rate=0.0032634454371703384, model__n_hidden=0, model__n_neurons=79, model__optimizer=adam; total time=   0.0s\n",
      "[CV] END model__learning_rate=0.0032634454371703384, model__n_hidden=0, model__n_neurons=79, model__optimizer=adam; total time=   0.0s\n",
      "[CV] END model__learning_rate=0.0032634454371703384, model__n_hidden=0, model__n_neurons=79, model__optimizer=adam; total time=   0.0s\n",
      "Epoch 17: early stopping\n",
      "121/121 [==============================] - 1s 3ms/step\n",
      "[CV] END model__learning_rate=0.012601795300451125, model__n_hidden=2, model__n_neurons=45, model__optimizer=sgd; total time=  22.5s\n",
      "Epoch 11: early stopping\n",
      "121/121 [==============================] - 1s 5ms/step\n",
      "[CV] END model__learning_rate=0.012601795300451125, model__n_hidden=2, model__n_neurons=45, model__optimizer=sgd; total time=  15.4s\n",
      "Epoch 16: early stopping\n",
      "121/121 [==============================] - 1s 3ms/step\n",
      "[CV] END model__learning_rate=0.012601795300451125, model__n_hidden=2, model__n_neurons=45, model__optimizer=sgd; total time=  21.7s\n",
      "Epoch 13: early stopping\n",
      "121/121 [==============================] - 0s 3ms/step\n",
      "[CV] END model__learning_rate=0.01606631580129595, model__n_hidden=1, model__n_neurons=21, model__optimizer=nesterov; total time=  16.0s\n",
      "Epoch 12: early stopping\n",
      "121/121 [==============================] - 0s 3ms/step\n",
      "[CV] END model__learning_rate=0.01606631580129595, model__n_hidden=1, model__n_neurons=21, model__optimizer=nesterov; total time=  15.2s\n",
      "Epoch 15: early stopping\n",
      "121/121 [==============================] - 1s 5ms/step\n",
      "[CV] END model__learning_rate=0.01606631580129595, model__n_hidden=1, model__n_neurons=21, model__optimizer=nesterov; total time=  17.7s\n",
      "Epoch 16: early stopping\n",
      "121/121 [==============================] - 1s 4ms/step\n",
      "[CV] END model__learning_rate=0.006134642887959374, model__n_hidden=1, model__n_neurons=12, model__optimizer=nesterov; total time=  20.4s\n",
      "Epoch 13: early stopping\n",
      "121/121 [==============================] - 1s 4ms/step\n",
      "[CV] END model__learning_rate=0.006134642887959374, model__n_hidden=1, model__n_neurons=12, model__optimizer=nesterov; total time=  16.3s\n",
      "Epoch 12: early stopping\n",
      "121/121 [==============================] - 1s 4ms/step\n",
      "[CV] END model__learning_rate=0.006134642887959374, model__n_hidden=1, model__n_neurons=12, model__optimizer=nesterov; total time=  15.1s\n"
     ]
    },
    {
     "name": "stderr",
     "output_type": "stream",
     "text": [
      "C:\\Users\\Dawid\\AppData\\Roaming\\Python\\Python39\\site-packages\\sklearn\\model_selection\\_validation.py:378: FitFailedWarning: \n",
      "9 fits failed out of a total of 30.\n",
      "The score on these train-test partitions for these parameters will be set to nan.\n",
      "If these failures are not expected, you can try to debug them by setting error_score='raise'.\n",
      "\n",
      "Below are more details about the failures:\n",
      "--------------------------------------------------------------------------------\n",
      "9 fits failed with the following error:\n",
      "Traceback (most recent call last):\n",
      "  File \"C:\\Users\\Dawid\\AppData\\Roaming\\Python\\Python39\\site-packages\\sklearn\\model_selection\\_validation.py\", line 686, in _fit_and_score\n",
      "    estimator.fit(X_train, y_train, **fit_params)\n",
      "  File \"C:\\Users\\Dawid\\AppData\\Roaming\\Python\\Python39\\site-packages\\scikeras\\wrappers.py\", line 762, in fit\n",
      "    self._fit(\n",
      "  File \"C:\\Users\\Dawid\\AppData\\Roaming\\Python\\Python39\\site-packages\\scikeras\\wrappers.py\", line 929, in _fit\n",
      "    self._check_model_compatibility(y)\n",
      "  File \"C:\\Users\\Dawid\\AppData\\Roaming\\Python\\Python39\\site-packages\\scikeras\\wrappers.py\", line 551, in _check_model_compatibility\n",
      "    if self.n_outputs_expected_ != len(self.model_.outputs):\n",
      "TypeError: object of type 'NoneType' has no len()\n",
      "\n",
      "  warnings.warn(some_fits_failed_message, FitFailedWarning)\n",
      "C:\\Users\\Dawid\\AppData\\Roaming\\Python\\Python39\\site-packages\\sklearn\\model_selection\\_search.py:952: UserWarning: One or more of the test scores are non-finite: [0.73227657        nan        nan 0.7032298  0.74920147 0.7589446\n",
      "        nan 0.74300329 0.71209813 0.68894718]\n",
      "  warnings.warn(\n"
     ]
    },
    {
     "name": "stdout",
     "output_type": "stream",
     "text": [
      "Epoch 11: early stopping\n"
     ]
    },
    {
     "data": {
      "text/html": [
       "<style>#sk-container-id-1 {color: black;background-color: white;}#sk-container-id-1 pre{padding: 0;}#sk-container-id-1 div.sk-toggleable {background-color: white;}#sk-container-id-1 label.sk-toggleable__label {cursor: pointer;display: block;width: 100%;margin-bottom: 0;padding: 0.3em;box-sizing: border-box;text-align: center;}#sk-container-id-1 label.sk-toggleable__label-arrow:before {content: \"▸\";float: left;margin-right: 0.25em;color: #696969;}#sk-container-id-1 label.sk-toggleable__label-arrow:hover:before {color: black;}#sk-container-id-1 div.sk-estimator:hover label.sk-toggleable__label-arrow:before {color: black;}#sk-container-id-1 div.sk-toggleable__content {max-height: 0;max-width: 0;overflow: hidden;text-align: left;background-color: #f0f8ff;}#sk-container-id-1 div.sk-toggleable__content pre {margin: 0.2em;color: black;border-radius: 0.25em;background-color: #f0f8ff;}#sk-container-id-1 input.sk-toggleable__control:checked~div.sk-toggleable__content {max-height: 200px;max-width: 100%;overflow: auto;}#sk-container-id-1 input.sk-toggleable__control:checked~label.sk-toggleable__label-arrow:before {content: \"▾\";}#sk-container-id-1 div.sk-estimator input.sk-toggleable__control:checked~label.sk-toggleable__label {background-color: #d4ebff;}#sk-container-id-1 div.sk-label input.sk-toggleable__control:checked~label.sk-toggleable__label {background-color: #d4ebff;}#sk-container-id-1 input.sk-hidden--visually {border: 0;clip: rect(1px 1px 1px 1px);clip: rect(1px, 1px, 1px, 1px);height: 1px;margin: -1px;overflow: hidden;padding: 0;position: absolute;width: 1px;}#sk-container-id-1 div.sk-estimator {font-family: monospace;background-color: #f0f8ff;border: 1px dotted black;border-radius: 0.25em;box-sizing: border-box;margin-bottom: 0.5em;}#sk-container-id-1 div.sk-estimator:hover {background-color: #d4ebff;}#sk-container-id-1 div.sk-parallel-item::after {content: \"\";width: 100%;border-bottom: 1px solid gray;flex-grow: 1;}#sk-container-id-1 div.sk-label:hover label.sk-toggleable__label {background-color: #d4ebff;}#sk-container-id-1 div.sk-serial::before {content: \"\";position: absolute;border-left: 1px solid gray;box-sizing: border-box;top: 0;bottom: 0;left: 50%;z-index: 0;}#sk-container-id-1 div.sk-serial {display: flex;flex-direction: column;align-items: center;background-color: white;padding-right: 0.2em;padding-left: 0.2em;position: relative;}#sk-container-id-1 div.sk-item {position: relative;z-index: 1;}#sk-container-id-1 div.sk-parallel {display: flex;align-items: stretch;justify-content: center;background-color: white;position: relative;}#sk-container-id-1 div.sk-item::before, #sk-container-id-1 div.sk-parallel-item::before {content: \"\";position: absolute;border-left: 1px solid gray;box-sizing: border-box;top: 0;bottom: 0;left: 50%;z-index: -1;}#sk-container-id-1 div.sk-parallel-item {display: flex;flex-direction: column;z-index: 1;position: relative;background-color: white;}#sk-container-id-1 div.sk-parallel-item:first-child::after {align-self: flex-end;width: 50%;}#sk-container-id-1 div.sk-parallel-item:last-child::after {align-self: flex-start;width: 50%;}#sk-container-id-1 div.sk-parallel-item:only-child::after {width: 0;}#sk-container-id-1 div.sk-dashed-wrapped {border: 1px dashed gray;margin: 0 0.4em 0.5em 0.4em;box-sizing: border-box;padding-bottom: 0.4em;background-color: white;}#sk-container-id-1 div.sk-label label {font-family: monospace;font-weight: bold;display: inline-block;line-height: 1.2em;}#sk-container-id-1 div.sk-label-container {text-align: center;}#sk-container-id-1 div.sk-container {/* jupyter's `normalize.less` sets `[hidden] { display: none; }` but bootstrap.min.css set `[hidden] { display: none !important; }` so we also need the `!important` here to be able to override the default hidden behavior on the sphinx rendered scikit-learn.org. See: https://github.com/scikit-learn/scikit-learn/issues/21755 */display: inline-block !important;position: relative;}#sk-container-id-1 div.sk-text-repr-fallback {display: none;}</style><div id=\"sk-container-id-1\" class=\"sk-top-container\"><div class=\"sk-text-repr-fallback\"><pre>RandomizedSearchCV(cv=3,\n",
       "                   estimator=KerasRegressor(callbacks=[&lt;keras.callbacks.EarlyStopping object at 0x0000020A40D45250&gt;], model=&lt;function build_model at 0x0000020A3629DF70&gt;),\n",
       "                   param_distributions={&#x27;model__learning_rate&#x27;: [0.0010360806612050577,\n",
       "                                                                 0.007491073247979924,\n",
       "                                                                 0.0014350969302655335,\n",
       "                                                                 0.003287871559576513,\n",
       "                                                                 0.0004056476384122555,\n",
       "                                                                 0.0021272421770163774,\n",
       "                                                                 0.00101...\n",
       "                                        &#x27;model__n_neurons&#x27;: array([ 1,  2,  3,  4,  5,  6,  7,  8,  9, 10, 11, 12, 13, 14, 15, 16, 17,\n",
       "       18, 19, 20, 21, 22, 23, 24, 25, 26, 27, 28, 29, 30, 31, 32, 33, 34,\n",
       "       35, 36, 37, 38, 39, 40, 41, 42, 43, 44, 45, 46, 47, 48, 49, 50, 51,\n",
       "       52, 53, 54, 55, 56, 57, 58, 59, 60, 61, 62, 63, 64, 65, 66, 67, 68,\n",
       "       69, 70, 71, 72, 73, 74, 75, 76, 77, 78, 79, 80, 81, 82, 83, 84, 85,\n",
       "       86, 87, 88, 89, 90, 91, 92, 93, 94, 95, 96, 97, 98, 99]),\n",
       "                                        &#x27;model__optimizer&#x27;: [&#x27;adam&#x27;, &#x27;sgd&#x27;,\n",
       "                                                             &#x27;nesterov&#x27;]},\n",
       "                   verbose=2)</pre><b>In a Jupyter environment, please rerun this cell to show the HTML representation or trust the notebook. <br />On GitHub, the HTML representation is unable to render, please try loading this page with nbviewer.org.</b></div><div class=\"sk-container\" hidden><div class=\"sk-item sk-dashed-wrapped\"><div class=\"sk-label-container\"><div class=\"sk-label sk-toggleable\"><input class=\"sk-toggleable__control sk-hidden--visually\" id=\"sk-estimator-id-1\" type=\"checkbox\" ><label for=\"sk-estimator-id-1\" class=\"sk-toggleable__label sk-toggleable__label-arrow\">RandomizedSearchCV</label><div class=\"sk-toggleable__content\"><pre>RandomizedSearchCV(cv=3,\n",
       "                   estimator=KerasRegressor(callbacks=[&lt;keras.callbacks.EarlyStopping object at 0x0000020A40D45250&gt;], model=&lt;function build_model at 0x0000020A3629DF70&gt;),\n",
       "                   param_distributions={&#x27;model__learning_rate&#x27;: [0.0010360806612050577,\n",
       "                                                                 0.007491073247979924,\n",
       "                                                                 0.0014350969302655335,\n",
       "                                                                 0.003287871559576513,\n",
       "                                                                 0.0004056476384122555,\n",
       "                                                                 0.0021272421770163774,\n",
       "                                                                 0.00101...\n",
       "                                        &#x27;model__n_neurons&#x27;: array([ 1,  2,  3,  4,  5,  6,  7,  8,  9, 10, 11, 12, 13, 14, 15, 16, 17,\n",
       "       18, 19, 20, 21, 22, 23, 24, 25, 26, 27, 28, 29, 30, 31, 32, 33, 34,\n",
       "       35, 36, 37, 38, 39, 40, 41, 42, 43, 44, 45, 46, 47, 48, 49, 50, 51,\n",
       "       52, 53, 54, 55, 56, 57, 58, 59, 60, 61, 62, 63, 64, 65, 66, 67, 68,\n",
       "       69, 70, 71, 72, 73, 74, 75, 76, 77, 78, 79, 80, 81, 82, 83, 84, 85,\n",
       "       86, 87, 88, 89, 90, 91, 92, 93, 94, 95, 96, 97, 98, 99]),\n",
       "                                        &#x27;model__optimizer&#x27;: [&#x27;adam&#x27;, &#x27;sgd&#x27;,\n",
       "                                                             &#x27;nesterov&#x27;]},\n",
       "                   verbose=2)</pre></div></div></div><div class=\"sk-parallel\"><div class=\"sk-parallel-item\"><div class=\"sk-item\"><div class=\"sk-label-container\"><div class=\"sk-label sk-toggleable\"><input class=\"sk-toggleable__control sk-hidden--visually\" id=\"sk-estimator-id-2\" type=\"checkbox\" ><label for=\"sk-estimator-id-2\" class=\"sk-toggleable__label sk-toggleable__label-arrow\">estimator: KerasRegressor</label><div class=\"sk-toggleable__content\"><pre>KerasRegressor(\n",
       "\tmodel=&lt;function build_model at 0x0000020A3629DF70&gt;\n",
       "\tbuild_fn=None\n",
       "\twarm_start=False\n",
       "\trandom_state=None\n",
       "\toptimizer=rmsprop\n",
       "\tloss=None\n",
       "\tmetrics=None\n",
       "\tbatch_size=None\n",
       "\tvalidation_batch_size=None\n",
       "\tverbose=1\n",
       "\tcallbacks=[&lt;keras.callbacks.EarlyStopping object at 0x0000020A40D45250&gt;]\n",
       "\tvalidation_split=0.0\n",
       "\tshuffle=True\n",
       "\trun_eagerly=False\n",
       "\tepochs=1\n",
       ")</pre></div></div></div><div class=\"sk-serial\"><div class=\"sk-item\"><div class=\"sk-estimator sk-toggleable\"><input class=\"sk-toggleable__control sk-hidden--visually\" id=\"sk-estimator-id-3\" type=\"checkbox\" ><label for=\"sk-estimator-id-3\" class=\"sk-toggleable__label sk-toggleable__label-arrow\">KerasRegressor</label><div class=\"sk-toggleable__content\"><pre>KerasRegressor(\n",
       "\tmodel=&lt;function build_model at 0x0000020A3629DF70&gt;\n",
       "\tbuild_fn=None\n",
       "\twarm_start=False\n",
       "\trandom_state=None\n",
       "\toptimizer=rmsprop\n",
       "\tloss=None\n",
       "\tmetrics=None\n",
       "\tbatch_size=None\n",
       "\tvalidation_batch_size=None\n",
       "\tverbose=1\n",
       "\tcallbacks=[&lt;keras.callbacks.EarlyStopping object at 0x0000020A40D45250&gt;]\n",
       "\tvalidation_split=0.0\n",
       "\tshuffle=True\n",
       "\trun_eagerly=False\n",
       "\tepochs=1\n",
       ")</pre></div></div></div></div></div></div></div></div></div></div>"
      ],
      "text/plain": [
       "RandomizedSearchCV(cv=3,\n",
       "                   estimator=KerasRegressor(callbacks=[<keras.callbacks.EarlyStopping object at 0x0000020A40D45250>], model=<function build_model at 0x0000020A3629DF70>),\n",
       "                   param_distributions={'model__learning_rate': [0.0010360806612050577,\n",
       "                                                                 0.007491073247979924,\n",
       "                                                                 0.0014350969302655335,\n",
       "                                                                 0.003287871559576513,\n",
       "                                                                 0.0004056476384122555,\n",
       "                                                                 0.0021272421770163774,\n",
       "                                                                 0.00101...\n",
       "                                        'model__n_neurons': array([ 1,  2,  3,  4,  5,  6,  7,  8,  9, 10, 11, 12, 13, 14, 15, 16, 17,\n",
       "       18, 19, 20, 21, 22, 23, 24, 25, 26, 27, 28, 29, 30, 31, 32, 33, 34,\n",
       "       35, 36, 37, 38, 39, 40, 41, 42, 43, 44, 45, 46, 47, 48, 49, 50, 51,\n",
       "       52, 53, 54, 55, 56, 57, 58, 59, 60, 61, 62, 63, 64, 65, 66, 67, 68,\n",
       "       69, 70, 71, 72, 73, 74, 75, 76, 77, 78, 79, 80, 81, 82, 83, 84, 85,\n",
       "       86, 87, 88, 89, 90, 91, 92, 93, 94, 95, 96, 97, 98, 99]),\n",
       "                                        'model__optimizer': ['adam', 'sgd',\n",
       "                                                             'nesterov']},\n",
       "                   verbose=2)"
      ]
     },
     "execution_count": 5,
     "metadata": {},
     "output_type": "execute_result"
    }
   ],
   "source": [
    "from sklearn.model_selection import RandomizedSearchCV\n",
    "\n",
    "rnd_search_cv = RandomizedSearchCV(keras_reg, param_distribs, n_iter=10, cv=3, verbose=2)\n",
    "rnd_search_cv.fit(X_train, y_train, epochs=100, validation_data=(X_valid, y_valid), verbose=0)"
   ]
  },
  {
   "cell_type": "code",
   "execution_count": 6,
   "id": "6c1c352f-8fce-4e77-9911-268023a2e4d7",
   "metadata": {},
   "outputs": [
    {
     "name": "stderr",
     "output_type": "stream",
     "text": [
      "WARNING:absl:Found untraced functions such as _update_step_xla while saving (showing 1 of 1). These functions will not be directly callable after loading.\n"
     ]
    },
    {
     "name": "stdout",
     "output_type": "stream",
     "text": [
      "INFO:tensorflow:Assets written to: C:\\Users\\Dawid\\AppData\\Local\\Temp\\tmpn1_m98r9\\assets\n"
     ]
    },
    {
     "name": "stderr",
     "output_type": "stream",
     "text": [
      "INFO:tensorflow:Assets written to: C:\\Users\\Dawid\\AppData\\Local\\Temp\\tmpn1_m98r9\\assets\n"
     ]
    }
   ],
   "source": [
    "import pickle\n",
    "\n",
    "best_params = rnd_search_cv.best_params_\n",
    "\n",
    "with open('rnd_search_params.pkl', 'wb') as f:\n",
    "    pickle.dump(best_params, f)\n",
    "\n",
    "with open('rnd_search_scikeras.pkl', 'wb') as f:\n",
    "    pickle.dump(rnd_search_cv, f)"
   ]
  },
  {
   "cell_type": "code",
   "execution_count": 7,
   "id": "0528fb3e-8a68-49f9-86ff-a7b268e06b80",
   "metadata": {},
   "outputs": [],
   "source": [
    "import keras_tuner as kt\n",
    "\n",
    "def build_model_kt(hp):\n",
    "    n_hidden = hp.Int(\"n_hidden\", min_value=0, max_value=3, default=2)\n",
    "    n_neurons = hp.Int(\"n_neurons\", min_value=1, max_value=100)\n",
    "    learning_rate = hp.Float(\"learning_rate\", min_value=3e-4, max_value=3e-2, sampling=\"log\")\n",
    "    optimizer = hp.Choice(\"optimizer\", values=[\"sgd\", \"adam\", \"nesterov\"])\n",
    "    \n",
    "    if optimizer == 'sgd':\n",
    "        optimizer = tf.keras.optimizers.SGD(learning_rate=learning_rate)\n",
    "    if optimizer == 'adam':\n",
    "        optimizer = tf.keras.optimizers.Adam(learning_rate=learning_rate)\n",
    "    else:\n",
    "        optimizer = tf.keras.optimizers.SGD(learning_rate=learning_rate, nesterov=True)\n",
    "    \n",
    "    model = tf.keras.models.Sequential()\n",
    "    for i in range(n_hidden):\n",
    "        if i == 0:\n",
    "            model.add(tf.keras.layers.Dense(n_neurons, activation=\"relu\", input_shape=X_train.shape[1:]))\n",
    "        else:\n",
    "            model.add(tf.keras.layers.Dense(n_neurons, activation=\"relu\"))\n",
    "    model.add(tf.keras.layers.Dense(1))\n",
    "    model.compile(optimizer=optimizer, loss=tf.keras.losses.MeanSquaredError())\n",
    "    return model"
   ]
  },
  {
   "cell_type": "code",
   "execution_count": 8,
   "id": "a535e1d7-d09e-4d71-821b-52cef61a5cd4",
   "metadata": {},
   "outputs": [],
   "source": [
    "import os"
   ]
  },
  {
   "cell_type": "code",
   "execution_count": 10,
   "id": "9b676c8b-fe62-4f3d-ad2f-73a5483dc9c4",
   "metadata": {},
   "outputs": [
    {
     "name": "stdout",
     "output_type": "stream",
     "text": [
      "Trial 10 Complete [00h 00m 34s]\n",
      "\n",
      "Best val_mse So Far: None\n",
      "Total elapsed time: 00h 05m 55s\n",
      "INFO:tensorflow:Oracle triggered exit\n"
     ]
    },
    {
     "name": "stderr",
     "output_type": "stream",
     "text": [
      "INFO:tensorflow:Oracle triggered exit\n"
     ]
    }
   ],
   "source": [
    "random_search_tuner = kt.RandomSearch(build_model_kt, objective=\"val_mse\", max_trials=10, overwrite=True,\n",
    "                                      directory=\"my_california_housing\", project_name=\"my_rnd_search\", seed=42, max_consecutive_failed_trials=1000)\n",
    "random_search_tuner.search(X_train, y_train, epochs=100, validation_data=(X_valid, y_valid), callbacks=[es])\n",
    "\n",
    "root_logdir = os.path.join(random_search_tuner.project_dir, 'tensorboard')\n",
    "tb = tf.keras.callbacks.TensorBoard(root_logdir)\n",
    "\n",
    "best_params = {\n",
    "    'n_hidden': random_search_tuner.get_best_hyperparameters(1)[0].get('n_hidden'),\n",
    "    'n_neurons': random_search_tuner.get_best_hyperparameters(1)[0].get('n_neurons'),\n",
    "    'learning_rate': random_search_tuner.get_best_hyperparameters(1)[0].get('learning_rate'),\n",
    "    'optimizer': random_search_tuner.get_best_hyperparameters(1)[0].get('optimizer'),\n",
    "}\n",
    "\n",
    "with open('kt_search_params.pkl', 'wb') as f:\n",
    "    pickle.dump(best_params, f)\n",
    "\n",
    "best_model = random_search_tuner.get_best_models(1)[0]\n",
    "best_model.save('kt_best_model.h5')"
   ]
  },
  {
   "cell_type": "code",
   "execution_count": 11,
   "id": "da9737f7-24a8-4161-9a9f-c957de277f5f",
   "metadata": {},
   "outputs": [
    {
     "data": {
      "text/plain": [
       "{'n_hidden': 2,\n",
       " 'n_neurons': 4,\n",
       " 'learning_rate': 0.001968761070571233,\n",
       " 'optimizer': 'sgd'}"
      ]
     },
     "execution_count": 11,
     "metadata": {},
     "output_type": "execute_result"
    }
   ],
   "source": [
    "best_params"
   ]
  },
  {
   "cell_type": "code",
   "execution_count": null,
   "id": "bbfd71a0-0a72-42cc-8acc-ec2e53f68262",
   "metadata": {},
   "outputs": [],
   "source": []
  }
 ],
 "metadata": {
  "kernelspec": {
   "display_name": "Python 3 (ipykernel)",
   "language": "python",
   "name": "python3"
  },
  "language_info": {
   "codemirror_mode": {
    "name": "ipython",
    "version": 3
   },
   "file_extension": ".py",
   "mimetype": "text/x-python",
   "name": "python",
   "nbconvert_exporter": "python",
   "pygments_lexer": "ipython3",
   "version": "3.9.7"
  }
 },
 "nbformat": 4,
 "nbformat_minor": 5
}
